{
 "cells": [
  {
   "cell_type": "markdown",
   "id": "71f52d7e",
   "metadata": {},
   "source": [
    "# OMNICHANNEL PLATFORM  EDA"
   ]
  },
  {
   "cell_type": "markdown",
   "id": "c231b218",
   "metadata": {},
   "source": [
    "# Problem Statement:\n",
    "\n",
    "## The company wants to expand across India through an online web market and various offline\n",
    "## stores. Still, before taking this step, they wanted to be double sure regarding the demand and\n",
    "## the sector they should target. The company has a limited cash reserve and they want to utilize it\n",
    "## in the best possible way.\n"
   ]
  },
  {
   "cell_type": "code",
   "execution_count": null,
   "id": "1478ddd5",
   "metadata": {},
   "outputs": [],
   "source": []
  },
  {
   "cell_type": "markdown",
   "id": "b4e9979e",
   "metadata": {},
   "source": [
    "# STEP 1- IMPORT ALL THE REQUIRED LIBRARIES"
   ]
  },
  {
   "cell_type": "code",
   "execution_count": 2,
   "id": "18169bdb",
   "metadata": {},
   "outputs": [],
   "source": [
    "import pandas as pd \n",
    "import numpy as np \n",
    "import matplotlib.pyplot as plt \n",
    "import seaborn as sns "
   ]
  },
  {
   "cell_type": "code",
   "execution_count": null,
   "id": "6b7905e5",
   "metadata": {},
   "outputs": [],
   "source": []
  },
  {
   "cell_type": "markdown",
   "id": "6cd41a79",
   "metadata": {},
   "source": [
    "# STEP 2- LOAD THE DATASET "
   ]
  },
  {
   "cell_type": "code",
   "execution_count": 3,
   "id": "99a93f4c",
   "metadata": {},
   "outputs": [],
   "source": [
    "df=pd.read_csv(r\"C:\\Users\\palm6\\Downloads\\crazy_monkey.csv\") # to avoide unicode error we used \"r\""
   ]
  },
  {
   "cell_type": "code",
   "execution_count": 4,
   "id": "0ecbacac",
   "metadata": {},
   "outputs": [
    {
     "data": {
      "text/html": [
       "<div>\n",
       "<style scoped>\n",
       "    .dataframe tbody tr th:only-of-type {\n",
       "        vertical-align: middle;\n",
       "    }\n",
       "\n",
       "    .dataframe tbody tr th {\n",
       "        vertical-align: top;\n",
       "    }\n",
       "\n",
       "    .dataframe thead th {\n",
       "        text-align: right;\n",
       "    }\n",
       "</style>\n",
       "<table border=\"1\" class=\"dataframe\">\n",
       "  <thead>\n",
       "    <tr style=\"text-align: right;\">\n",
       "      <th></th>\n",
       "      <th>dummy</th>\n",
       "      <th>order_id</th>\n",
       "      <th>parent_id</th>\n",
       "      <th>user_id</th>\n",
       "      <th>price</th>\n",
       "      <th>quantity</th>\n",
       "      <th>product_id</th>\n",
       "      <th>size_id</th>\n",
       "      <th>category_id</th>\n",
       "      <th>cat_type</th>\n",
       "      <th>...</th>\n",
       "      <th>gender</th>\n",
       "      <th>subclass</th>\n",
       "      <th>neck</th>\n",
       "      <th>sleeve</th>\n",
       "      <th>material</th>\n",
       "      <th>product_type</th>\n",
       "      <th>prod_name</th>\n",
       "      <th>created_at</th>\n",
       "      <th>city</th>\n",
       "      <th>state</th>\n",
       "    </tr>\n",
       "  </thead>\n",
       "  <tbody>\n",
       "    <tr>\n",
       "      <th>0</th>\n",
       "      <td>27288</td>\n",
       "      <td>3550739</td>\n",
       "      <td>0</td>\n",
       "      <td>44879</td>\n",
       "      <td>1000</td>\n",
       "      <td>1</td>\n",
       "      <td>34584</td>\n",
       "      <td>19</td>\n",
       "      <td>382</td>\n",
       "      <td>Accessories</td>\n",
       "      <td>...</td>\n",
       "      <td>Unisex</td>\n",
       "      <td>Mobile Covers</td>\n",
       "      <td>-1</td>\n",
       "      <td>-1</td>\n",
       "      <td>Polycarbonate Hard Plastic</td>\n",
       "      <td>Mobile Covers</td>\n",
       "      <td>OnePlus One Mobile Covers</td>\n",
       "      <td>01-01-2016 00:07</td>\n",
       "      <td>Mumbai</td>\n",
       "      <td>Maharashtra</td>\n",
       "    </tr>\n",
       "    <tr>\n",
       "      <th>1</th>\n",
       "      <td>38337</td>\n",
       "      <td>3550743</td>\n",
       "      <td>0</td>\n",
       "      <td>1627343</td>\n",
       "      <td>1000</td>\n",
       "      <td>1</td>\n",
       "      <td>61354</td>\n",
       "      <td>3</td>\n",
       "      <td>622</td>\n",
       "      <td>Apparel</td>\n",
       "      <td>...</td>\n",
       "      <td>Men</td>\n",
       "      <td>T-Shirts</td>\n",
       "      <td>Round Neck</td>\n",
       "      <td>Full</td>\n",
       "      <td>100% Cotton</td>\n",
       "      <td>T-Shirts</td>\n",
       "      <td>Men's Plain Henley Fullsleeve T-Shirts</td>\n",
       "      <td>01-01-2016 00:11</td>\n",
       "      <td>Mumbai</td>\n",
       "      <td>Maharashtra</td>\n",
       "    </tr>\n",
       "    <tr>\n",
       "      <th>2</th>\n",
       "      <td>29144</td>\n",
       "      <td>3550745</td>\n",
       "      <td>0</td>\n",
       "      <td>1221355</td>\n",
       "      <td>1000</td>\n",
       "      <td>1</td>\n",
       "      <td>26898</td>\n",
       "      <td>4</td>\n",
       "      <td>456</td>\n",
       "      <td>Apparel</td>\n",
       "      <td>...</td>\n",
       "      <td>Men</td>\n",
       "      <td>Pyjamas</td>\n",
       "      <td>-1</td>\n",
       "      <td>-1</td>\n",
       "      <td>100% Cotton</td>\n",
       "      <td>Pyjamas</td>\n",
       "      <td>Men's Plain Pyjamas</td>\n",
       "      <td>01-01-2016 00:12</td>\n",
       "      <td>Ghaziabad</td>\n",
       "      <td>Uttar Pradesh</td>\n",
       "    </tr>\n",
       "    <tr>\n",
       "      <th>3</th>\n",
       "      <td>16576</td>\n",
       "      <td>3550747</td>\n",
       "      <td>3550745</td>\n",
       "      <td>1221355</td>\n",
       "      <td>1000</td>\n",
       "      <td>1</td>\n",
       "      <td>41284</td>\n",
       "      <td>2</td>\n",
       "      <td>200</td>\n",
       "      <td>Apparel</td>\n",
       "      <td>...</td>\n",
       "      <td>Men</td>\n",
       "      <td>T-Shirts</td>\n",
       "      <td>Round Neck</td>\n",
       "      <td>Full</td>\n",
       "      <td>100% Cotton</td>\n",
       "      <td>T-Shirts</td>\n",
       "      <td>Men's Plain Full Sleeve T-Shirts</td>\n",
       "      <td>01-01-2016 00:13</td>\n",
       "      <td>Ghaziabad</td>\n",
       "      <td>Uttar Pradesh</td>\n",
       "    </tr>\n",
       "    <tr>\n",
       "      <th>4</th>\n",
       "      <td>34189</td>\n",
       "      <td>3550749</td>\n",
       "      <td>3550745</td>\n",
       "      <td>1221355</td>\n",
       "      <td>1000</td>\n",
       "      <td>1</td>\n",
       "      <td>53238</td>\n",
       "      <td>2</td>\n",
       "      <td>570</td>\n",
       "      <td>Apparel</td>\n",
       "      <td>...</td>\n",
       "      <td>Men</td>\n",
       "      <td>T-Shirts</td>\n",
       "      <td>Round Neck</td>\n",
       "      <td>Full</td>\n",
       "      <td>100% Cotton</td>\n",
       "      <td>T-Shirts</td>\n",
       "      <td>Men's Plain Sports Trim Fullsleeve T-Shirt</td>\n",
       "      <td>01-01-2016 00:13</td>\n",
       "      <td>Ghaziabad</td>\n",
       "      <td>Uttar Pradesh</td>\n",
       "    </tr>\n",
       "    <tr>\n",
       "      <th>5</th>\n",
       "      <td>35537</td>\n",
       "      <td>3550751</td>\n",
       "      <td>3550745</td>\n",
       "      <td>1221355</td>\n",
       "      <td>1000</td>\n",
       "      <td>1</td>\n",
       "      <td>53754</td>\n",
       "      <td>2</td>\n",
       "      <td>572</td>\n",
       "      <td>Apparel</td>\n",
       "      <td>...</td>\n",
       "      <td>Men</td>\n",
       "      <td>T-Shirts</td>\n",
       "      <td>Round Neck</td>\n",
       "      <td>Full</td>\n",
       "      <td>100% Cotton</td>\n",
       "      <td>T-Shirts</td>\n",
       "      <td>Men's Printed Sports Trim Fullsleeve T-Shirt</td>\n",
       "      <td>01-01-2016 00:13</td>\n",
       "      <td>Ghaziabad</td>\n",
       "      <td>Uttar Pradesh</td>\n",
       "    </tr>\n",
       "    <tr>\n",
       "      <th>6</th>\n",
       "      <td>34903</td>\n",
       "      <td>3550753</td>\n",
       "      <td>3550745</td>\n",
       "      <td>1221355</td>\n",
       "      <td>1000</td>\n",
       "      <td>1</td>\n",
       "      <td>53988</td>\n",
       "      <td>2</td>\n",
       "      <td>570</td>\n",
       "      <td>Apparel</td>\n",
       "      <td>...</td>\n",
       "      <td>Men</td>\n",
       "      <td>T-Shirts</td>\n",
       "      <td>Round Neck</td>\n",
       "      <td>Full</td>\n",
       "      <td>100% Cotton</td>\n",
       "      <td>T-Shirts</td>\n",
       "      <td>Men's Plain Sports Trim Fullsleeve T-Shirt</td>\n",
       "      <td>01-01-2016 00:13</td>\n",
       "      <td>Ghaziabad</td>\n",
       "      <td>Uttar Pradesh</td>\n",
       "    </tr>\n",
       "    <tr>\n",
       "      <th>7</th>\n",
       "      <td>10848</td>\n",
       "      <td>3550755</td>\n",
       "      <td>3550745</td>\n",
       "      <td>1221355</td>\n",
       "      <td>1000</td>\n",
       "      <td>1</td>\n",
       "      <td>57490</td>\n",
       "      <td>4</td>\n",
       "      <td>156</td>\n",
       "      <td>Apparel</td>\n",
       "      <td>...</td>\n",
       "      <td>Men</td>\n",
       "      <td>Boxers</td>\n",
       "      <td>-1</td>\n",
       "      <td>-1</td>\n",
       "      <td>100% Cotton</td>\n",
       "      <td>Boxers</td>\n",
       "      <td>Men's Half Printed Boxers</td>\n",
       "      <td>01-01-2016 00:13</td>\n",
       "      <td>Ghaziabad</td>\n",
       "      <td>Uttar Pradesh</td>\n",
       "    </tr>\n",
       "    <tr>\n",
       "      <th>8</th>\n",
       "      <td>26798</td>\n",
       "      <td>3550759</td>\n",
       "      <td>0</td>\n",
       "      <td>1627347</td>\n",
       "      <td>1000</td>\n",
       "      <td>1</td>\n",
       "      <td>11536</td>\n",
       "      <td>19</td>\n",
       "      <td>358</td>\n",
       "      <td>Accessories</td>\n",
       "      <td>...</td>\n",
       "      <td>Unisex</td>\n",
       "      <td>Mobile Covers</td>\n",
       "      <td>-1</td>\n",
       "      <td>-1</td>\n",
       "      <td>Polycarbonate Hard Plastic</td>\n",
       "      <td>Mobile Covers</td>\n",
       "      <td>Samsung Galaxy E7 Mobile Covers</td>\n",
       "      <td>01-01-2016 00:16</td>\n",
       "      <td>Hyderabad</td>\n",
       "      <td>Andhra Pradesh</td>\n",
       "    </tr>\n",
       "    <tr>\n",
       "      <th>9</th>\n",
       "      <td>8734</td>\n",
       "      <td>3550761</td>\n",
       "      <td>3550759</td>\n",
       "      <td>1627347</td>\n",
       "      <td>1000</td>\n",
       "      <td>1</td>\n",
       "      <td>19200</td>\n",
       "      <td>19</td>\n",
       "      <td>141</td>\n",
       "      <td>Accessories</td>\n",
       "      <td>...</td>\n",
       "      <td>Unisex</td>\n",
       "      <td>Mobile Covers</td>\n",
       "      <td>-1</td>\n",
       "      <td>-1</td>\n",
       "      <td>Polycarbonate Hard Plastic</td>\n",
       "      <td>Mobile Covers</td>\n",
       "      <td>Nexus 5 Mobile Covers</td>\n",
       "      <td>01-01-2016 00:16</td>\n",
       "      <td>Hyderabad</td>\n",
       "      <td>Andhra Pradesh</td>\n",
       "    </tr>\n",
       "  </tbody>\n",
       "</table>\n",
       "<p>10 rows × 21 columns</p>\n",
       "</div>"
      ],
      "text/plain": [
       "   dummy  order_id  parent_id  user_id  price  quantity  product_id  size_id  \\\n",
       "0  27288   3550739          0    44879   1000         1       34584       19   \n",
       "1  38337   3550743          0  1627343   1000         1       61354        3   \n",
       "2  29144   3550745          0  1221355   1000         1       26898        4   \n",
       "3  16576   3550747    3550745  1221355   1000         1       41284        2   \n",
       "4  34189   3550749    3550745  1221355   1000         1       53238        2   \n",
       "5  35537   3550751    3550745  1221355   1000         1       53754        2   \n",
       "6  34903   3550753    3550745  1221355   1000         1       53988        2   \n",
       "7  10848   3550755    3550745  1221355   1000         1       57490        4   \n",
       "8  26798   3550759          0  1627347   1000         1       11536       19   \n",
       "9   8734   3550761    3550759  1627347   1000         1       19200       19   \n",
       "\n",
       "   category_id     cat_type  ...  gender       subclass        neck sleeve  \\\n",
       "0          382  Accessories  ...  Unisex  Mobile Covers          -1     -1   \n",
       "1          622      Apparel  ...     Men       T-Shirts  Round Neck   Full   \n",
       "2          456      Apparel  ...     Men        Pyjamas          -1     -1   \n",
       "3          200      Apparel  ...     Men       T-Shirts  Round Neck   Full   \n",
       "4          570      Apparel  ...     Men       T-Shirts  Round Neck   Full   \n",
       "5          572      Apparel  ...     Men       T-Shirts  Round Neck   Full   \n",
       "6          570      Apparel  ...     Men       T-Shirts  Round Neck   Full   \n",
       "7          156      Apparel  ...     Men         Boxers          -1     -1   \n",
       "8          358  Accessories  ...  Unisex  Mobile Covers          -1     -1   \n",
       "9          141  Accessories  ...  Unisex  Mobile Covers          -1     -1   \n",
       "\n",
       "                     material   product_type  \\\n",
       "0  Polycarbonate Hard Plastic  Mobile Covers   \n",
       "1                 100% Cotton       T-Shirts   \n",
       "2                 100% Cotton        Pyjamas   \n",
       "3                 100% Cotton       T-Shirts   \n",
       "4                 100% Cotton       T-Shirts   \n",
       "5                 100% Cotton       T-Shirts   \n",
       "6                 100% Cotton       T-Shirts   \n",
       "7                 100% Cotton         Boxers   \n",
       "8  Polycarbonate Hard Plastic  Mobile Covers   \n",
       "9  Polycarbonate Hard Plastic  Mobile Covers   \n",
       "\n",
       "                                      prod_name        created_at       city  \\\n",
       "0                     OnePlus One Mobile Covers  01-01-2016 00:07     Mumbai   \n",
       "1        Men's Plain Henley Fullsleeve T-Shirts  01-01-2016 00:11     Mumbai   \n",
       "2                           Men's Plain Pyjamas  01-01-2016 00:12  Ghaziabad   \n",
       "3              Men's Plain Full Sleeve T-Shirts  01-01-2016 00:13  Ghaziabad   \n",
       "4    Men's Plain Sports Trim Fullsleeve T-Shirt  01-01-2016 00:13  Ghaziabad   \n",
       "5  Men's Printed Sports Trim Fullsleeve T-Shirt  01-01-2016 00:13  Ghaziabad   \n",
       "6    Men's Plain Sports Trim Fullsleeve T-Shirt  01-01-2016 00:13  Ghaziabad   \n",
       "7                     Men's Half Printed Boxers  01-01-2016 00:13  Ghaziabad   \n",
       "8               Samsung Galaxy E7 Mobile Covers  01-01-2016 00:16  Hyderabad   \n",
       "9                         Nexus 5 Mobile Covers  01-01-2016 00:16  Hyderabad   \n",
       "\n",
       "            state  \n",
       "0     Maharashtra  \n",
       "1     Maharashtra  \n",
       "2   Uttar Pradesh  \n",
       "3   Uttar Pradesh  \n",
       "4   Uttar Pradesh  \n",
       "5   Uttar Pradesh  \n",
       "6   Uttar Pradesh  \n",
       "7   Uttar Pradesh  \n",
       "8  Andhra Pradesh  \n",
       "9  Andhra Pradesh  \n",
       "\n",
       "[10 rows x 21 columns]"
      ]
     },
     "execution_count": 4,
     "metadata": {},
     "output_type": "execute_result"
    }
   ],
   "source": [
    "df.head(10)"
   ]
  },
  {
   "cell_type": "code",
   "execution_count": 5,
   "id": "d45fc681",
   "metadata": {},
   "outputs": [
    {
     "data": {
      "text/plain": [
       "(41726, 21)"
      ]
     },
     "execution_count": 5,
     "metadata": {},
     "output_type": "execute_result"
    }
   ],
   "source": [
    "df.shape   # check how many rows and how many columns are there in our DF"
   ]
  },
  {
   "cell_type": "code",
   "execution_count": 6,
   "id": "edd74e6b",
   "metadata": {},
   "outputs": [
    {
     "data": {
      "text/plain": [
       "Index(['dummy', 'order_id', 'parent_id', 'user_id', 'price', 'quantity',\n",
       "       'product_id', 'size_id', 'category_id', 'cat_type', 'subtype', 'gender',\n",
       "       'subclass', 'neck', 'sleeve', 'material', 'product_type', 'prod_name',\n",
       "       'created_at', 'city', 'state'],\n",
       "      dtype='object')"
      ]
     },
     "execution_count": 6,
     "metadata": {},
     "output_type": "execute_result"
    }
   ],
   "source": [
    "df.columns # to get all the columns names from DF \n"
   ]
  },
  {
   "cell_type": "code",
   "execution_count": 7,
   "id": "c1c5d282",
   "metadata": {},
   "outputs": [
    {
     "data": {
      "text/plain": [
       "dummy            int64\n",
       "order_id         int64\n",
       "parent_id        int64\n",
       "user_id          int64\n",
       "price            int64\n",
       "quantity         int64\n",
       "product_id       int64\n",
       "size_id          int64\n",
       "category_id      int64\n",
       "cat_type        object\n",
       "subtype         object\n",
       "gender          object\n",
       "subclass        object\n",
       "neck            object\n",
       "sleeve          object\n",
       "material        object\n",
       "product_type    object\n",
       "prod_name       object\n",
       "created_at      object\n",
       "city            object\n",
       "state           object\n",
       "dtype: object"
      ]
     },
     "execution_count": 7,
     "metadata": {},
     "output_type": "execute_result"
    }
   ],
   "source": [
    "df.dtypes  # to check each columns dtype . so we can easily categorise them as numeric and categorical columns."
   ]
  },
  {
   "cell_type": "code",
   "execution_count": 8,
   "id": "b5ece3e3",
   "metadata": {},
   "outputs": [
    {
     "data": {
      "text/plain": [
       "<bound method DataFrame.info of        dummy  order_id  parent_id  user_id  price  quantity  product_id  \\\n",
       "0      27288   3550739          0    44879   1000         1       34584   \n",
       "1      38337   3550743          0  1627343   1000         1       61354   \n",
       "2      29144   3550745          0  1221355   1000         1       26898   \n",
       "3      16576   3550747    3550745  1221355   1000         1       41284   \n",
       "4      34189   3550749    3550745  1221355   1000         1       53238   \n",
       "...      ...       ...        ...      ...    ...       ...         ...   \n",
       "41721  27655   3661031          0  1689335   1000         1       24124   \n",
       "41722  27666   3661033    3661031  1689335   1000         1       24164   \n",
       "41723  23824   3661037          0  1456719   1000         1       26550   \n",
       "41724  26768   3661039          0  1686593   1000         1       64826   \n",
       "41725  32766   3661041          0  1088993   1000         1       61786   \n",
       "\n",
       "       size_id  category_id     cat_type  ...  gender       subclass  \\\n",
       "0           19          382  Accessories  ...  Unisex  Mobile Covers   \n",
       "1            3          622      Apparel  ...     Men       T-Shirts   \n",
       "2            4          456      Apparel  ...     Men        Pyjamas   \n",
       "3            2          200      Apparel  ...     Men       T-Shirts   \n",
       "4            2          570      Apparel  ...     Men       T-Shirts   \n",
       "...        ...          ...          ...  ...     ...            ...   \n",
       "41721       19          410  Accessories  ...  Unisex  Mobile Covers   \n",
       "41722       19          410  Accessories  ...  Unisex  Mobile Covers   \n",
       "41723        2          348      Apparel  ...   Women       T-Shirts   \n",
       "41724       11          352      Apparel  ...   Women       T-Shirts   \n",
       "41725        4          528      Apparel  ...     Men    Sweatshirts   \n",
       "\n",
       "             neck sleeve                    material   product_type  \\\n",
       "0              -1     -1  Polycarbonate Hard Plastic  Mobile Covers   \n",
       "1      Round Neck   Full                 100% Cotton       T-Shirts   \n",
       "2              -1     -1                 100% Cotton        Pyjamas   \n",
       "3      Round Neck   Full                 100% Cotton       T-Shirts   \n",
       "4      Round Neck   Full                 100% Cotton       T-Shirts   \n",
       "...           ...    ...                         ...            ...   \n",
       "41721          -1     -1  Polycarbonate Hard Plastic  Mobile Covers   \n",
       "41722          -1     -1  Polycarbonate Hard Plastic  Mobile Covers   \n",
       "41723  Scoop Neck  3/4th                 100% Cotton       T-Shirts   \n",
       "41724  Scoop Neck  3/4th                 100% Cotton       T-Shirts   \n",
       "41725        Hood   Full                 100% Cotton    Sweatshirts   \n",
       "\n",
       "                                        prod_name        created_at  \\\n",
       "0                       OnePlus One Mobile Covers  01-01-2016 00:07   \n",
       "1          Men's Plain Henley Fullsleeve T-Shirts  01-01-2016 00:11   \n",
       "2                             Men's Plain Pyjamas  01-01-2016 00:12   \n",
       "3                Men's Plain Full Sleeve T-Shirts  01-01-2016 00:13   \n",
       "4      Men's Plain Sports Trim Fullsleeve T-Shirt  01-01-2016 00:13   \n",
       "...                                           ...               ...   \n",
       "41721             Samsung Galaxy A5 Mobile Covers   1/30/2016 23:55   \n",
       "41722             Samsung Galaxy A5 Mobile Covers   1/30/2016 23:56   \n",
       "41723           Women's Plain 3/4 Sleeve T-Shirts   1/30/2016 23:58   \n",
       "41724         Women's Printed 3/4 Sleeve T-Shirts   1/30/2016 23:59   \n",
       "41725                 Men's Printed Hoodies (New)   1/30/2016 23:59   \n",
       "\n",
       "              city           state  \n",
       "0           Mumbai     Maharashtra  \n",
       "1           Mumbai     Maharashtra  \n",
       "2        Ghaziabad   Uttar Pradesh  \n",
       "3        Ghaziabad   Uttar Pradesh  \n",
       "4        Ghaziabad   Uttar Pradesh  \n",
       "...            ...             ...  \n",
       "41721       Bhopal  Madhya Pradesh  \n",
       "41722       Bhopal  Madhya Pradesh  \n",
       "41723    Bangalore       Karnataka  \n",
       "41724  BHUBANESWAR          ODISHA  \n",
       "41725    Bhagalpur           Bihar  \n",
       "\n",
       "[41726 rows x 21 columns]>"
      ]
     },
     "execution_count": 8,
     "metadata": {},
     "output_type": "execute_result"
    }
   ],
   "source": [
    "df.info  # to get info about our DF"
   ]
  },
  {
   "cell_type": "code",
   "execution_count": 9,
   "id": "c46831ed",
   "metadata": {},
   "outputs": [
    {
     "data": {
      "text/plain": [
       "0        27288\n",
       "1        38337\n",
       "2        29144\n",
       "3        16576\n",
       "4        34189\n",
       "         ...  \n",
       "41721    27655\n",
       "41722    27666\n",
       "41723    23824\n",
       "41724    26768\n",
       "41725    32766\n",
       "Name: dummy, Length: 41726, dtype: int64"
      ]
     },
     "execution_count": 9,
     "metadata": {},
     "output_type": "execute_result"
    }
   ],
   "source": [
    "df[\"dummy\"]  # we will delete dummy column its irrelevent for EDA"
   ]
  },
  {
   "cell_type": "code",
   "execution_count": 10,
   "id": "02841bfd",
   "metadata": {},
   "outputs": [
    {
     "data": {
      "text/plain": [
       "0              0\n",
       "1              0\n",
       "2              0\n",
       "3        3550745\n",
       "4        3550745\n",
       "          ...   \n",
       "41721          0\n",
       "41722    3661031\n",
       "41723          0\n",
       "41724          0\n",
       "41725          0\n",
       "Name: parent_id, Length: 41726, dtype: int64"
      ]
     },
     "execution_count": 10,
     "metadata": {},
     "output_type": "execute_result"
    }
   ],
   "source": [
    "df[\"parent_id\"] # we will drop parent_id column also"
   ]
  },
  {
   "cell_type": "code",
   "execution_count": 11,
   "id": "fb2e1f46",
   "metadata": {},
   "outputs": [],
   "source": [
    "# remaining 19 columns we will keep for further analysis "
   ]
  },
  {
   "cell_type": "code",
   "execution_count": null,
   "id": "a8c118f1",
   "metadata": {},
   "outputs": [],
   "source": []
  },
  {
   "cell_type": "markdown",
   "id": "04e62aee",
   "metadata": {},
   "source": [
    "# STEP 3- DATA PREPROCESSING"
   ]
  },
  {
   "cell_type": "markdown",
   "id": "dff61ba0",
   "metadata": {},
   "source": [
    "## LOOK FOR NULL VALUES IN EACH COLUMNS CAREFULLY"
   ]
  },
  {
   "cell_type": "code",
   "execution_count": 12,
   "id": "0e571cce",
   "metadata": {},
   "outputs": [
    {
     "data": {
      "text/plain": [
       "dummy              0\n",
       "order_id           0\n",
       "parent_id          0\n",
       "user_id            0\n",
       "price              0\n",
       "quantity           0\n",
       "product_id         0\n",
       "size_id            0\n",
       "category_id        0\n",
       "cat_type        1552\n",
       "subtype         1552\n",
       "gender          1552\n",
       "subclass        1552\n",
       "neck            1552\n",
       "sleeve          1552\n",
       "material        1552\n",
       "product_type    1552\n",
       "prod_name          0\n",
       "created_at         0\n",
       "city               0\n",
       "state             25\n",
       "dtype: int64"
      ]
     },
     "execution_count": 12,
     "metadata": {},
     "output_type": "execute_result"
    }
   ],
   "source": [
    "df.isnull().sum()"
   ]
  },
  {
   "cell_type": "code",
   "execution_count": 13,
   "id": "ee95adf3",
   "metadata": {},
   "outputs": [
    {
     "data": {
      "text/plain": [
       "dummy           0.000000\n",
       "order_id        0.000000\n",
       "parent_id       0.000000\n",
       "user_id         0.000000\n",
       "price           0.000000\n",
       "quantity        0.000000\n",
       "product_id      0.000000\n",
       "size_id         0.000000\n",
       "category_id     0.000000\n",
       "cat_type        3.719503\n",
       "subtype         3.719503\n",
       "gender          3.719503\n",
       "subclass        3.719503\n",
       "neck            3.719503\n",
       "sleeve          3.719503\n",
       "material        3.719503\n",
       "product_type    3.719503\n",
       "prod_name       0.000000\n",
       "created_at      0.000000\n",
       "city            0.000000\n",
       "state           0.059915\n",
       "dtype: float64"
      ]
     },
     "execution_count": 13,
     "metadata": {},
     "output_type": "execute_result"
    }
   ],
   "source": [
    "df.isnull().sum()/df.shape[0]*100  # null values in each column percentage wise"
   ]
  },
  {
   "cell_type": "code",
   "execution_count": 14,
   "id": "2ab55261",
   "metadata": {},
   "outputs": [],
   "source": [
    "df1=df.copy()"
   ]
  },
  {
   "cell_type": "markdown",
   "id": "67a18981",
   "metadata": {},
   "source": [
    "# STEP 4- CLEANING NULL VALUES / DUPLICATE REMOVALS"
   ]
  },
  {
   "cell_type": "code",
   "execution_count": 15,
   "id": "4aca08f0",
   "metadata": {},
   "outputs": [
    {
     "data": {
      "text/plain": [
       "(41726, 21)"
      ]
     },
     "execution_count": 15,
     "metadata": {},
     "output_type": "execute_result"
    }
   ],
   "source": [
    "df1.shape"
   ]
  },
  {
   "cell_type": "markdown",
   "id": "4f452603",
   "metadata": {},
   "source": [
    "## LETS FIRST DROP ALL IRRELEVANT COLUMNS ONE BY ONE"
   ]
  },
  {
   "cell_type": "code",
   "execution_count": 16,
   "id": "9b55db82",
   "metadata": {},
   "outputs": [],
   "source": [
    "# since our data set has got null values in the form of NA or blank form therefore we will carefully drop"
   ]
  },
  {
   "cell_type": "code",
   "execution_count": 17,
   "id": "07197483",
   "metadata": {},
   "outputs": [],
   "source": [
    "# we dont need dummy and parent_id columns we will drop both columns from dataset"
   ]
  },
  {
   "cell_type": "code",
   "execution_count": 18,
   "id": "a1bb4c51",
   "metadata": {},
   "outputs": [],
   "source": [
    "# Remove column dummy\n",
    "\n",
    "df1.drop(['dummy'], axis=1,inplace=True)"
   ]
  },
  {
   "cell_type": "code",
   "execution_count": 19,
   "id": "cc91505b",
   "metadata": {},
   "outputs": [],
   "source": [
    "# Remove column parent_id \n",
    "\n",
    "df1.drop(['parent_id'], axis=1,inplace=True)"
   ]
  },
  {
   "cell_type": "code",
   "execution_count": 20,
   "id": "4ad0ccef",
   "metadata": {},
   "outputs": [
    {
     "data": {
      "text/plain": [
       "(41726, 19)"
      ]
     },
     "execution_count": 20,
     "metadata": {},
     "output_type": "execute_result"
    }
   ],
   "source": [
    "df1.shape"
   ]
  },
  {
   "cell_type": "markdown",
   "id": "05abda2a",
   "metadata": {},
   "source": [
    "## LETS DELETE ONLY NULL ROWS FROM DF IF EXHISTED "
   ]
  },
  {
   "cell_type": "code",
   "execution_count": 21,
   "id": "76ac46d0",
   "metadata": {},
   "outputs": [],
   "source": [
    "df1.dropna(how='all',inplace=True) # here we dropped/deleted those rows which were completely null if exhisted."
   ]
  },
  {
   "cell_type": "code",
   "execution_count": 22,
   "id": "402912ba",
   "metadata": {},
   "outputs": [
    {
     "data": {
      "text/plain": [
       "(41726, 19)"
      ]
     },
     "execution_count": 22,
     "metadata": {},
     "output_type": "execute_result"
    }
   ],
   "source": [
    "df1.shape"
   ]
  },
  {
   "cell_type": "markdown",
   "id": "97f1ab90",
   "metadata": {},
   "source": [
    "## SORRY WE DID NOT ANY HAVE FULLY NULL ROWS SO NO DELETION HAPPEND."
   ]
  },
  {
   "cell_type": "markdown",
   "id": "ae41e127",
   "metadata": {},
   "source": [
    "## LETS FIND OUT DUPLICATE ROWS FIRST "
   ]
  },
  {
   "cell_type": "code",
   "execution_count": 23,
   "id": "405ed89b",
   "metadata": {},
   "outputs": [
    {
     "name": "stdout",
     "output_type": "stream",
     "text": [
      "Duplicate Rows :\n"
     ]
    },
    {
     "data": {
      "text/html": [
       "<div>\n",
       "<style scoped>\n",
       "    .dataframe tbody tr th:only-of-type {\n",
       "        vertical-align: middle;\n",
       "    }\n",
       "\n",
       "    .dataframe tbody tr th {\n",
       "        vertical-align: top;\n",
       "    }\n",
       "\n",
       "    .dataframe thead th {\n",
       "        text-align: right;\n",
       "    }\n",
       "</style>\n",
       "<table border=\"1\" class=\"dataframe\">\n",
       "  <thead>\n",
       "    <tr style=\"text-align: right;\">\n",
       "      <th></th>\n",
       "      <th>order_id</th>\n",
       "      <th>user_id</th>\n",
       "      <th>price</th>\n",
       "      <th>quantity</th>\n",
       "      <th>product_id</th>\n",
       "      <th>size_id</th>\n",
       "      <th>category_id</th>\n",
       "      <th>cat_type</th>\n",
       "      <th>subtype</th>\n",
       "      <th>gender</th>\n",
       "      <th>subclass</th>\n",
       "      <th>neck</th>\n",
       "      <th>sleeve</th>\n",
       "      <th>material</th>\n",
       "      <th>product_type</th>\n",
       "      <th>prod_name</th>\n",
       "      <th>created_at</th>\n",
       "      <th>city</th>\n",
       "      <th>state</th>\n",
       "    </tr>\n",
       "  </thead>\n",
       "  <tbody>\n",
       "  </tbody>\n",
       "</table>\n",
       "</div>"
      ],
      "text/plain": [
       "Empty DataFrame\n",
       "Columns: [order_id, user_id, price, quantity, product_id, size_id, category_id, cat_type, subtype, gender, subclass, neck, sleeve, material, product_type, prod_name, created_at, city, state]\n",
       "Index: []"
      ]
     },
     "execution_count": 23,
     "metadata": {},
     "output_type": "execute_result"
    }
   ],
   "source": [
    "# Selecting duplicate rows except first\n",
    "# occurrence based on all columns\n",
    "duplicate = df1[df1.duplicated()]\n",
    " \n",
    "print(\"Duplicate Rows :\")\n",
    " \n",
    "# Print the resultant Dataframe\n",
    "duplicate"
   ]
  },
  {
   "cell_type": "markdown",
   "id": "29c20034",
   "metadata": {},
   "source": [
    "## WE HAVE GOT NO DUPLICATE ROWS IN OUR DATAFRAME"
   ]
  },
  {
   "cell_type": "code",
   "execution_count": 24,
   "id": "d3b06f31",
   "metadata": {},
   "outputs": [
    {
     "data": {
      "text/plain": [
       "(41726, 19)"
      ]
     },
     "execution_count": 24,
     "metadata": {},
     "output_type": "execute_result"
    }
   ],
   "source": [
    "df1.shape"
   ]
  },
  {
   "cell_type": "code",
   "execution_count": null,
   "id": "6bd1235e",
   "metadata": {},
   "outputs": [],
   "source": []
  },
  {
   "cell_type": "markdown",
   "id": "53f16b29",
   "metadata": {},
   "source": [
    "# STEP 5- WE WILL CHECK EACH COLUMN ONE BY ONE FOR NULL VALUES,ITS DATATYPE,CATEGORY VERSION,MISSING VERSION ETC"
   ]
  },
  {
   "cell_type": "code",
   "execution_count": 25,
   "id": "cfb354b5",
   "metadata": {},
   "outputs": [
    {
     "data": {
      "text/html": [
       "<div>\n",
       "<style scoped>\n",
       "    .dataframe tbody tr th:only-of-type {\n",
       "        vertical-align: middle;\n",
       "    }\n",
       "\n",
       "    .dataframe tbody tr th {\n",
       "        vertical-align: top;\n",
       "    }\n",
       "\n",
       "    .dataframe thead th {\n",
       "        text-align: right;\n",
       "    }\n",
       "</style>\n",
       "<table border=\"1\" class=\"dataframe\">\n",
       "  <thead>\n",
       "    <tr style=\"text-align: right;\">\n",
       "      <th></th>\n",
       "      <th>order_id</th>\n",
       "      <th>user_id</th>\n",
       "      <th>price</th>\n",
       "      <th>quantity</th>\n",
       "      <th>product_id</th>\n",
       "      <th>size_id</th>\n",
       "      <th>category_id</th>\n",
       "      <th>cat_type</th>\n",
       "      <th>subtype</th>\n",
       "      <th>gender</th>\n",
       "      <th>subclass</th>\n",
       "      <th>neck</th>\n",
       "      <th>sleeve</th>\n",
       "      <th>material</th>\n",
       "      <th>product_type</th>\n",
       "      <th>prod_name</th>\n",
       "      <th>created_at</th>\n",
       "      <th>city</th>\n",
       "      <th>state</th>\n",
       "    </tr>\n",
       "  </thead>\n",
       "  <tbody>\n",
       "    <tr>\n",
       "      <th>0</th>\n",
       "      <td>3550739</td>\n",
       "      <td>44879</td>\n",
       "      <td>1000</td>\n",
       "      <td>1</td>\n",
       "      <td>34584</td>\n",
       "      <td>19</td>\n",
       "      <td>382</td>\n",
       "      <td>Accessories</td>\n",
       "      <td>Mobile Covers</td>\n",
       "      <td>Unisex</td>\n",
       "      <td>Mobile Covers</td>\n",
       "      <td>-1</td>\n",
       "      <td>-1</td>\n",
       "      <td>Polycarbonate Hard Plastic</td>\n",
       "      <td>Mobile Covers</td>\n",
       "      <td>OnePlus One Mobile Covers</td>\n",
       "      <td>01-01-2016 00:07</td>\n",
       "      <td>Mumbai</td>\n",
       "      <td>Maharashtra</td>\n",
       "    </tr>\n",
       "    <tr>\n",
       "      <th>1</th>\n",
       "      <td>3550743</td>\n",
       "      <td>1627343</td>\n",
       "      <td>1000</td>\n",
       "      <td>1</td>\n",
       "      <td>61354</td>\n",
       "      <td>3</td>\n",
       "      <td>622</td>\n",
       "      <td>Apparel</td>\n",
       "      <td>Topwear</td>\n",
       "      <td>Men</td>\n",
       "      <td>T-Shirts</td>\n",
       "      <td>Round Neck</td>\n",
       "      <td>Full</td>\n",
       "      <td>100% Cotton</td>\n",
       "      <td>T-Shirts</td>\n",
       "      <td>Men's Plain Henley Fullsleeve T-Shirts</td>\n",
       "      <td>01-01-2016 00:11</td>\n",
       "      <td>Mumbai</td>\n",
       "      <td>Maharashtra</td>\n",
       "    </tr>\n",
       "    <tr>\n",
       "      <th>2</th>\n",
       "      <td>3550745</td>\n",
       "      <td>1221355</td>\n",
       "      <td>1000</td>\n",
       "      <td>1</td>\n",
       "      <td>26898</td>\n",
       "      <td>4</td>\n",
       "      <td>456</td>\n",
       "      <td>Apparel</td>\n",
       "      <td>Bottomwear</td>\n",
       "      <td>Men</td>\n",
       "      <td>Pyjamas</td>\n",
       "      <td>-1</td>\n",
       "      <td>-1</td>\n",
       "      <td>100% Cotton</td>\n",
       "      <td>Pyjamas</td>\n",
       "      <td>Men's Plain Pyjamas</td>\n",
       "      <td>01-01-2016 00:12</td>\n",
       "      <td>Ghaziabad</td>\n",
       "      <td>Uttar Pradesh</td>\n",
       "    </tr>\n",
       "    <tr>\n",
       "      <th>3</th>\n",
       "      <td>3550747</td>\n",
       "      <td>1221355</td>\n",
       "      <td>1000</td>\n",
       "      <td>1</td>\n",
       "      <td>41284</td>\n",
       "      <td>2</td>\n",
       "      <td>200</td>\n",
       "      <td>Apparel</td>\n",
       "      <td>Topwear</td>\n",
       "      <td>Men</td>\n",
       "      <td>T-Shirts</td>\n",
       "      <td>Round Neck</td>\n",
       "      <td>Full</td>\n",
       "      <td>100% Cotton</td>\n",
       "      <td>T-Shirts</td>\n",
       "      <td>Men's Plain Full Sleeve T-Shirts</td>\n",
       "      <td>01-01-2016 00:13</td>\n",
       "      <td>Ghaziabad</td>\n",
       "      <td>Uttar Pradesh</td>\n",
       "    </tr>\n",
       "    <tr>\n",
       "      <th>4</th>\n",
       "      <td>3550749</td>\n",
       "      <td>1221355</td>\n",
       "      <td>1000</td>\n",
       "      <td>1</td>\n",
       "      <td>53238</td>\n",
       "      <td>2</td>\n",
       "      <td>570</td>\n",
       "      <td>Apparel</td>\n",
       "      <td>Topwear</td>\n",
       "      <td>Men</td>\n",
       "      <td>T-Shirts</td>\n",
       "      <td>Round Neck</td>\n",
       "      <td>Full</td>\n",
       "      <td>100% Cotton</td>\n",
       "      <td>T-Shirts</td>\n",
       "      <td>Men's Plain Sports Trim Fullsleeve T-Shirt</td>\n",
       "      <td>01-01-2016 00:13</td>\n",
       "      <td>Ghaziabad</td>\n",
       "      <td>Uttar Pradesh</td>\n",
       "    </tr>\n",
       "  </tbody>\n",
       "</table>\n",
       "</div>"
      ],
      "text/plain": [
       "   order_id  user_id  price  quantity  product_id  size_id  category_id  \\\n",
       "0   3550739    44879   1000         1       34584       19          382   \n",
       "1   3550743  1627343   1000         1       61354        3          622   \n",
       "2   3550745  1221355   1000         1       26898        4          456   \n",
       "3   3550747  1221355   1000         1       41284        2          200   \n",
       "4   3550749  1221355   1000         1       53238        2          570   \n",
       "\n",
       "      cat_type        subtype  gender       subclass        neck sleeve  \\\n",
       "0  Accessories  Mobile Covers  Unisex  Mobile Covers          -1     -1   \n",
       "1      Apparel        Topwear     Men       T-Shirts  Round Neck   Full   \n",
       "2      Apparel     Bottomwear     Men        Pyjamas          -1     -1   \n",
       "3      Apparel        Topwear     Men       T-Shirts  Round Neck   Full   \n",
       "4      Apparel        Topwear     Men       T-Shirts  Round Neck   Full   \n",
       "\n",
       "                     material   product_type  \\\n",
       "0  Polycarbonate Hard Plastic  Mobile Covers   \n",
       "1                 100% Cotton       T-Shirts   \n",
       "2                 100% Cotton        Pyjamas   \n",
       "3                 100% Cotton       T-Shirts   \n",
       "4                 100% Cotton       T-Shirts   \n",
       "\n",
       "                                    prod_name        created_at       city  \\\n",
       "0                   OnePlus One Mobile Covers  01-01-2016 00:07     Mumbai   \n",
       "1      Men's Plain Henley Fullsleeve T-Shirts  01-01-2016 00:11     Mumbai   \n",
       "2                         Men's Plain Pyjamas  01-01-2016 00:12  Ghaziabad   \n",
       "3            Men's Plain Full Sleeve T-Shirts  01-01-2016 00:13  Ghaziabad   \n",
       "4  Men's Plain Sports Trim Fullsleeve T-Shirt  01-01-2016 00:13  Ghaziabad   \n",
       "\n",
       "           state  \n",
       "0    Maharashtra  \n",
       "1    Maharashtra  \n",
       "2  Uttar Pradesh  \n",
       "3  Uttar Pradesh  \n",
       "4  Uttar Pradesh  "
      ]
     },
     "execution_count": 25,
     "metadata": {},
     "output_type": "execute_result"
    }
   ],
   "source": [
    "df1.head()"
   ]
  },
  {
   "cell_type": "code",
   "execution_count": 26,
   "id": "d10cf094",
   "metadata": {},
   "outputs": [
    {
     "data": {
      "text/plain": [
       "(41726, 19)"
      ]
     },
     "execution_count": 26,
     "metadata": {},
     "output_type": "execute_result"
    }
   ],
   "source": [
    "df1.shape"
   ]
  },
  {
   "cell_type": "code",
   "execution_count": 27,
   "id": "2940bcb7",
   "metadata": {},
   "outputs": [
    {
     "data": {
      "text/plain": [
       "order_id           0\n",
       "user_id            0\n",
       "price              0\n",
       "quantity           0\n",
       "product_id         0\n",
       "size_id            0\n",
       "category_id        0\n",
       "cat_type        1552\n",
       "subtype         1552\n",
       "gender          1552\n",
       "subclass        1552\n",
       "neck            1552\n",
       "sleeve          1552\n",
       "material        1552\n",
       "product_type    1552\n",
       "prod_name          0\n",
       "created_at         0\n",
       "city               0\n",
       "state             25\n",
       "dtype: int64"
      ]
     },
     "execution_count": 27,
     "metadata": {},
     "output_type": "execute_result"
    }
   ],
   "source": [
    "df1.isnull().sum()"
   ]
  },
  {
   "cell_type": "markdown",
   "id": "2b5a8a38",
   "metadata": {},
   "source": [
    "## FROM ORDER_ID TO CATEGORY_ID COLUMNS ARE PERFECT WITH NO NULL VAUES"
   ]
  },
  {
   "cell_type": "markdown",
   "id": "181ff1f7",
   "metadata": {},
   "source": [
    "### SINCE NECK AND SLEEVE  AND MATERIALCOLUMNS WERE HAVING -1 AT MANY ROWS AS FAULTY  VALUES SO WE REPLACED ALL OF THEM WITH 0.\n",
    "### "
   ]
  },
  {
   "cell_type": "code",
   "execution_count": 28,
   "id": "4f40a5b4",
   "metadata": {},
   "outputs": [
    {
     "data": {
      "text/plain": [
       "1552"
      ]
     },
     "execution_count": 28,
     "metadata": {},
     "output_type": "execute_result"
    }
   ],
   "source": [
    "df[\"neck\"].isnull().sum()"
   ]
  },
  {
   "cell_type": "code",
   "execution_count": 29,
   "id": "60f54d17",
   "metadata": {},
   "outputs": [],
   "source": [
    "# replace all occurrences of -1 with 0 in the \"neck\",\"material\" and \"sleeve\" columns in place\n",
    "\n",
    "df1.replace('-1', '0',inplace=True)\n",
    "\n"
   ]
  },
  {
   "cell_type": "code",
   "execution_count": 30,
   "id": "ca1730c7",
   "metadata": {},
   "outputs": [
    {
     "data": {
      "text/plain": [
       "0                16676\n",
       "Round Neck       14456\n",
       "Scoop Neck        6457\n",
       "Hood              2063\n",
       "Collared Neck      350\n",
       "V Neck             163\n",
       "Bomber Neck          9\n",
       "Name: neck, dtype: int64"
      ]
     },
     "execution_count": 30,
     "metadata": {},
     "output_type": "execute_result"
    }
   ],
   "source": [
    "df1[\"neck\"].value_counts()"
   ]
  },
  {
   "cell_type": "code",
   "execution_count": 31,
   "id": "93e11a4d",
   "metadata": {},
   "outputs": [
    {
     "data": {
      "text/plain": [
       "0             16676\n",
       "Full          10286\n",
       "Half           6755\n",
       "3/4th          4089\n",
       "Sleeveless     2368\n",
       "Name: sleeve, dtype: int64"
      ]
     },
     "execution_count": 31,
     "metadata": {},
     "output_type": "execute_result"
    }
   ],
   "source": [
    "df1[\"sleeve\"].value_counts()"
   ]
  },
  {
   "cell_type": "code",
   "execution_count": 32,
   "id": "c349cec7",
   "metadata": {},
   "outputs": [
    {
     "data": {
      "text/plain": [
       "dtype('O')"
      ]
     },
     "execution_count": 32,
     "metadata": {},
     "output_type": "execute_result"
    }
   ],
   "source": [
    "df1[\"sleeve\"].dtypes"
   ]
  },
  {
   "cell_type": "code",
   "execution_count": 33,
   "id": "bcd41651",
   "metadata": {},
   "outputs": [
    {
     "data": {
      "text/plain": [
       "100% Cotton                   33554\n",
       "Polycarbonate Hard Plastic     6605\n",
       "0                                15\n",
       "Name: material, dtype: int64"
      ]
     },
     "execution_count": 33,
     "metadata": {},
     "output_type": "execute_result"
    }
   ],
   "source": [
    "df1[\"material\"].value_counts()"
   ]
  },
  {
   "cell_type": "code",
   "execution_count": 34,
   "id": "e9813361",
   "metadata": {},
   "outputs": [
    {
     "data": {
      "text/plain": [
       "dtype('O')"
      ]
     },
     "execution_count": 34,
     "metadata": {},
     "output_type": "execute_result"
    }
   ],
   "source": [
    "df1[\"material\"].dtypes"
   ]
  },
  {
   "cell_type": "code",
   "execution_count": 35,
   "id": "4e5d4683",
   "metadata": {},
   "outputs": [
    {
     "data": {
      "text/plain": [
       "order_id           0\n",
       "user_id            0\n",
       "price              0\n",
       "quantity           0\n",
       "product_id         0\n",
       "size_id            0\n",
       "category_id        0\n",
       "cat_type        1552\n",
       "subtype         1552\n",
       "gender          1552\n",
       "subclass        1552\n",
       "neck            1552\n",
       "sleeve          1552\n",
       "material        1552\n",
       "product_type    1552\n",
       "prod_name          0\n",
       "created_at         0\n",
       "city               0\n",
       "state             25\n",
       "dtype: int64"
      ]
     },
     "execution_count": 35,
     "metadata": {},
     "output_type": "execute_result"
    }
   ],
   "source": [
    "df1.isnull().sum()"
   ]
  },
  {
   "cell_type": "markdown",
   "id": "f16195e4",
   "metadata": {},
   "source": [
    "## CITY AND STATE COLUMNS HAVE SOMETHING INTERESTING TO MANIPULATE \n",
    "## SUCH AS DUPLICACY AND FAULTY VALUES IN THEM."
   ]
  },
  {
   "cell_type": "code",
   "execution_count": 36,
   "id": "7e0176e3",
   "metadata": {},
   "outputs": [
    {
     "data": {
      "text/plain": [
       "Mumbai           5848\n",
       "Bangalore        3878\n",
       "Pune             2728\n",
       "Thane            1841\n",
       "Hyderabad        1655\n",
       "                 ... \n",
       "Surathkal           1\n",
       "Kanchipuramur       1\n",
       "Ghansoli            1\n",
       "Karad               1\n",
       "Malkapur            1\n",
       "Name: city, Length: 993, dtype: int64"
      ]
     },
     "execution_count": 36,
     "metadata": {},
     "output_type": "execute_result"
    }
   ],
   "source": [
    "df1[\"city\"].value_counts()"
   ]
  },
  {
   "cell_type": "markdown",
   "id": "3a4169b8",
   "metadata": {},
   "source": [
    "## OUR MOST COLUMNS HAVE NULL VALUES AS NA WE WILL SIMPLY DELETE THOSE ROWS"
   ]
  },
  {
   "cell_type": "code",
   "execution_count": 37,
   "id": "2039d7de",
   "metadata": {},
   "outputs": [],
   "source": [
    "df1 = df1.dropna()  "
   ]
  },
  {
   "cell_type": "code",
   "execution_count": 38,
   "id": "aa4ed8f0",
   "metadata": {},
   "outputs": [
    {
     "data": {
      "text/plain": [
       "(40152, 19)"
      ]
     },
     "execution_count": 38,
     "metadata": {},
     "output_type": "execute_result"
    }
   ],
   "source": [
    "df1.shape"
   ]
  },
  {
   "cell_type": "code",
   "execution_count": 39,
   "id": "3c268a3c",
   "metadata": {},
   "outputs": [
    {
     "data": {
      "text/plain": [
       "Mumbai           5652\n",
       "Bangalore        3729\n",
       "Pune             2640\n",
       "Thane            1773\n",
       "Hyderabad        1591\n",
       "                 ... \n",
       "Mandi adampur       1\n",
       "Kadapa              1\n",
       "Dahanu              1\n",
       "Miraroad            1\n",
       "Malkapur            1\n",
       "Name: city, Length: 986, dtype: int64"
      ]
     },
     "execution_count": 39,
     "metadata": {},
     "output_type": "execute_result"
    }
   ],
   "source": [
    "df1[\"city\"].value_counts()"
   ]
  },
  {
   "cell_type": "code",
   "execution_count": 40,
   "id": "f25798f8",
   "metadata": {},
   "outputs": [
    {
     "data": {
      "text/plain": [
       "order_id        0\n",
       "user_id         0\n",
       "price           0\n",
       "quantity        0\n",
       "product_id      0\n",
       "size_id         0\n",
       "category_id     0\n",
       "cat_type        0\n",
       "subtype         0\n",
       "gender          0\n",
       "subclass        0\n",
       "neck            0\n",
       "sleeve          0\n",
       "material        0\n",
       "product_type    0\n",
       "prod_name       0\n",
       "created_at      0\n",
       "city            0\n",
       "state           0\n",
       "dtype: int64"
      ]
     },
     "execution_count": 40,
     "metadata": {},
     "output_type": "execute_result"
    }
   ],
   "source": [
    "df1.isnull().sum() # since we deleted all the rows having NA as null values but still there is much more to clean."
   ]
  },
  {
   "cell_type": "code",
   "execution_count": 41,
   "id": "a54b25a3",
   "metadata": {},
   "outputs": [
    {
     "data": {
      "text/html": [
       "<div>\n",
       "<style scoped>\n",
       "    .dataframe tbody tr th:only-of-type {\n",
       "        vertical-align: middle;\n",
       "    }\n",
       "\n",
       "    .dataframe tbody tr th {\n",
       "        vertical-align: top;\n",
       "    }\n",
       "\n",
       "    .dataframe thead th {\n",
       "        text-align: right;\n",
       "    }\n",
       "</style>\n",
       "<table border=\"1\" class=\"dataframe\">\n",
       "  <thead>\n",
       "    <tr style=\"text-align: right;\">\n",
       "      <th></th>\n",
       "      <th>order_id</th>\n",
       "      <th>user_id</th>\n",
       "      <th>price</th>\n",
       "      <th>quantity</th>\n",
       "      <th>product_id</th>\n",
       "      <th>size_id</th>\n",
       "      <th>category_id</th>\n",
       "      <th>cat_type</th>\n",
       "      <th>subtype</th>\n",
       "      <th>gender</th>\n",
       "      <th>subclass</th>\n",
       "      <th>neck</th>\n",
       "      <th>sleeve</th>\n",
       "      <th>material</th>\n",
       "      <th>product_type</th>\n",
       "      <th>prod_name</th>\n",
       "      <th>created_at</th>\n",
       "      <th>city</th>\n",
       "      <th>state</th>\n",
       "    </tr>\n",
       "  </thead>\n",
       "  <tbody>\n",
       "    <tr>\n",
       "      <th>0</th>\n",
       "      <td>3550739</td>\n",
       "      <td>44879</td>\n",
       "      <td>1000</td>\n",
       "      <td>1</td>\n",
       "      <td>34584</td>\n",
       "      <td>19</td>\n",
       "      <td>382</td>\n",
       "      <td>Accessories</td>\n",
       "      <td>Mobile Covers</td>\n",
       "      <td>Unisex</td>\n",
       "      <td>Mobile Covers</td>\n",
       "      <td>0</td>\n",
       "      <td>0</td>\n",
       "      <td>Polycarbonate Hard Plastic</td>\n",
       "      <td>Mobile Covers</td>\n",
       "      <td>OnePlus One Mobile Covers</td>\n",
       "      <td>01-01-2016 00:07</td>\n",
       "      <td>Mumbai</td>\n",
       "      <td>Maharashtra</td>\n",
       "    </tr>\n",
       "    <tr>\n",
       "      <th>1</th>\n",
       "      <td>3550743</td>\n",
       "      <td>1627343</td>\n",
       "      <td>1000</td>\n",
       "      <td>1</td>\n",
       "      <td>61354</td>\n",
       "      <td>3</td>\n",
       "      <td>622</td>\n",
       "      <td>Apparel</td>\n",
       "      <td>Topwear</td>\n",
       "      <td>Men</td>\n",
       "      <td>T-Shirts</td>\n",
       "      <td>Round Neck</td>\n",
       "      <td>Full</td>\n",
       "      <td>100% Cotton</td>\n",
       "      <td>T-Shirts</td>\n",
       "      <td>Men's Plain Henley Fullsleeve T-Shirts</td>\n",
       "      <td>01-01-2016 00:11</td>\n",
       "      <td>Mumbai</td>\n",
       "      <td>Maharashtra</td>\n",
       "    </tr>\n",
       "    <tr>\n",
       "      <th>2</th>\n",
       "      <td>3550745</td>\n",
       "      <td>1221355</td>\n",
       "      <td>1000</td>\n",
       "      <td>1</td>\n",
       "      <td>26898</td>\n",
       "      <td>4</td>\n",
       "      <td>456</td>\n",
       "      <td>Apparel</td>\n",
       "      <td>Bottomwear</td>\n",
       "      <td>Men</td>\n",
       "      <td>Pyjamas</td>\n",
       "      <td>0</td>\n",
       "      <td>0</td>\n",
       "      <td>100% Cotton</td>\n",
       "      <td>Pyjamas</td>\n",
       "      <td>Men's Plain Pyjamas</td>\n",
       "      <td>01-01-2016 00:12</td>\n",
       "      <td>Ghaziabad</td>\n",
       "      <td>Uttar Pradesh</td>\n",
       "    </tr>\n",
       "    <tr>\n",
       "      <th>3</th>\n",
       "      <td>3550747</td>\n",
       "      <td>1221355</td>\n",
       "      <td>1000</td>\n",
       "      <td>1</td>\n",
       "      <td>41284</td>\n",
       "      <td>2</td>\n",
       "      <td>200</td>\n",
       "      <td>Apparel</td>\n",
       "      <td>Topwear</td>\n",
       "      <td>Men</td>\n",
       "      <td>T-Shirts</td>\n",
       "      <td>Round Neck</td>\n",
       "      <td>Full</td>\n",
       "      <td>100% Cotton</td>\n",
       "      <td>T-Shirts</td>\n",
       "      <td>Men's Plain Full Sleeve T-Shirts</td>\n",
       "      <td>01-01-2016 00:13</td>\n",
       "      <td>Ghaziabad</td>\n",
       "      <td>Uttar Pradesh</td>\n",
       "    </tr>\n",
       "    <tr>\n",
       "      <th>4</th>\n",
       "      <td>3550749</td>\n",
       "      <td>1221355</td>\n",
       "      <td>1000</td>\n",
       "      <td>1</td>\n",
       "      <td>53238</td>\n",
       "      <td>2</td>\n",
       "      <td>570</td>\n",
       "      <td>Apparel</td>\n",
       "      <td>Topwear</td>\n",
       "      <td>Men</td>\n",
       "      <td>T-Shirts</td>\n",
       "      <td>Round Neck</td>\n",
       "      <td>Full</td>\n",
       "      <td>100% Cotton</td>\n",
       "      <td>T-Shirts</td>\n",
       "      <td>Men's Plain Sports Trim Fullsleeve T-Shirt</td>\n",
       "      <td>01-01-2016 00:13</td>\n",
       "      <td>Ghaziabad</td>\n",
       "      <td>Uttar Pradesh</td>\n",
       "    </tr>\n",
       "  </tbody>\n",
       "</table>\n",
       "</div>"
      ],
      "text/plain": [
       "   order_id  user_id  price  quantity  product_id  size_id  category_id  \\\n",
       "0   3550739    44879   1000         1       34584       19          382   \n",
       "1   3550743  1627343   1000         1       61354        3          622   \n",
       "2   3550745  1221355   1000         1       26898        4          456   \n",
       "3   3550747  1221355   1000         1       41284        2          200   \n",
       "4   3550749  1221355   1000         1       53238        2          570   \n",
       "\n",
       "      cat_type        subtype  gender       subclass        neck sleeve  \\\n",
       "0  Accessories  Mobile Covers  Unisex  Mobile Covers           0      0   \n",
       "1      Apparel        Topwear     Men       T-Shirts  Round Neck   Full   \n",
       "2      Apparel     Bottomwear     Men        Pyjamas           0      0   \n",
       "3      Apparel        Topwear     Men       T-Shirts  Round Neck   Full   \n",
       "4      Apparel        Topwear     Men       T-Shirts  Round Neck   Full   \n",
       "\n",
       "                     material   product_type  \\\n",
       "0  Polycarbonate Hard Plastic  Mobile Covers   \n",
       "1                 100% Cotton       T-Shirts   \n",
       "2                 100% Cotton        Pyjamas   \n",
       "3                 100% Cotton       T-Shirts   \n",
       "4                 100% Cotton       T-Shirts   \n",
       "\n",
       "                                    prod_name        created_at       city  \\\n",
       "0                   OnePlus One Mobile Covers  01-01-2016 00:07     Mumbai   \n",
       "1      Men's Plain Henley Fullsleeve T-Shirts  01-01-2016 00:11     Mumbai   \n",
       "2                         Men's Plain Pyjamas  01-01-2016 00:12  Ghaziabad   \n",
       "3            Men's Plain Full Sleeve T-Shirts  01-01-2016 00:13  Ghaziabad   \n",
       "4  Men's Plain Sports Trim Fullsleeve T-Shirt  01-01-2016 00:13  Ghaziabad   \n",
       "\n",
       "           state  \n",
       "0    Maharashtra  \n",
       "1    Maharashtra  \n",
       "2  Uttar Pradesh  \n",
       "3  Uttar Pradesh  \n",
       "4  Uttar Pradesh  "
      ]
     },
     "execution_count": 41,
     "metadata": {},
     "output_type": "execute_result"
    }
   ],
   "source": [
    "df1.head()"
   ]
  },
  {
   "cell_type": "code",
   "execution_count": 42,
   "id": "2ed23fa7",
   "metadata": {},
   "outputs": [],
   "source": [
    "df2=df1.copy()"
   ]
  },
  {
   "cell_type": "markdown",
   "id": "92eb5fd5",
   "metadata": {},
   "source": [
    "## OUR DATA IS CLEANED."
   ]
  },
  {
   "cell_type": "code",
   "execution_count": 43,
   "id": "7e0830c6",
   "metadata": {},
   "outputs": [
    {
     "data": {
      "text/html": [
       "<div>\n",
       "<style scoped>\n",
       "    .dataframe tbody tr th:only-of-type {\n",
       "        vertical-align: middle;\n",
       "    }\n",
       "\n",
       "    .dataframe tbody tr th {\n",
       "        vertical-align: top;\n",
       "    }\n",
       "\n",
       "    .dataframe thead th {\n",
       "        text-align: right;\n",
       "    }\n",
       "</style>\n",
       "<table border=\"1\" class=\"dataframe\">\n",
       "  <thead>\n",
       "    <tr style=\"text-align: right;\">\n",
       "      <th></th>\n",
       "      <th>order_id</th>\n",
       "      <th>user_id</th>\n",
       "      <th>price</th>\n",
       "      <th>quantity</th>\n",
       "      <th>product_id</th>\n",
       "      <th>size_id</th>\n",
       "      <th>category_id</th>\n",
       "      <th>cat_type</th>\n",
       "      <th>subtype</th>\n",
       "      <th>gender</th>\n",
       "      <th>subclass</th>\n",
       "      <th>neck</th>\n",
       "      <th>sleeve</th>\n",
       "      <th>material</th>\n",
       "      <th>product_type</th>\n",
       "      <th>prod_name</th>\n",
       "      <th>created_at</th>\n",
       "      <th>city</th>\n",
       "      <th>state</th>\n",
       "    </tr>\n",
       "  </thead>\n",
       "  <tbody>\n",
       "    <tr>\n",
       "      <th>0</th>\n",
       "      <td>3550739</td>\n",
       "      <td>44879</td>\n",
       "      <td>1000</td>\n",
       "      <td>1</td>\n",
       "      <td>34584</td>\n",
       "      <td>19</td>\n",
       "      <td>382</td>\n",
       "      <td>Accessories</td>\n",
       "      <td>Mobile Covers</td>\n",
       "      <td>Unisex</td>\n",
       "      <td>Mobile Covers</td>\n",
       "      <td>0</td>\n",
       "      <td>0</td>\n",
       "      <td>Polycarbonate Hard Plastic</td>\n",
       "      <td>Mobile Covers</td>\n",
       "      <td>OnePlus One Mobile Covers</td>\n",
       "      <td>01-01-2016 00:07</td>\n",
       "      <td>Mumbai</td>\n",
       "      <td>Maharashtra</td>\n",
       "    </tr>\n",
       "    <tr>\n",
       "      <th>1</th>\n",
       "      <td>3550743</td>\n",
       "      <td>1627343</td>\n",
       "      <td>1000</td>\n",
       "      <td>1</td>\n",
       "      <td>61354</td>\n",
       "      <td>3</td>\n",
       "      <td>622</td>\n",
       "      <td>Apparel</td>\n",
       "      <td>Topwear</td>\n",
       "      <td>Men</td>\n",
       "      <td>T-Shirts</td>\n",
       "      <td>Round Neck</td>\n",
       "      <td>Full</td>\n",
       "      <td>100% Cotton</td>\n",
       "      <td>T-Shirts</td>\n",
       "      <td>Men's Plain Henley Fullsleeve T-Shirts</td>\n",
       "      <td>01-01-2016 00:11</td>\n",
       "      <td>Mumbai</td>\n",
       "      <td>Maharashtra</td>\n",
       "    </tr>\n",
       "    <tr>\n",
       "      <th>2</th>\n",
       "      <td>3550745</td>\n",
       "      <td>1221355</td>\n",
       "      <td>1000</td>\n",
       "      <td>1</td>\n",
       "      <td>26898</td>\n",
       "      <td>4</td>\n",
       "      <td>456</td>\n",
       "      <td>Apparel</td>\n",
       "      <td>Bottomwear</td>\n",
       "      <td>Men</td>\n",
       "      <td>Pyjamas</td>\n",
       "      <td>0</td>\n",
       "      <td>0</td>\n",
       "      <td>100% Cotton</td>\n",
       "      <td>Pyjamas</td>\n",
       "      <td>Men's Plain Pyjamas</td>\n",
       "      <td>01-01-2016 00:12</td>\n",
       "      <td>Ghaziabad</td>\n",
       "      <td>Uttar Pradesh</td>\n",
       "    </tr>\n",
       "    <tr>\n",
       "      <th>3</th>\n",
       "      <td>3550747</td>\n",
       "      <td>1221355</td>\n",
       "      <td>1000</td>\n",
       "      <td>1</td>\n",
       "      <td>41284</td>\n",
       "      <td>2</td>\n",
       "      <td>200</td>\n",
       "      <td>Apparel</td>\n",
       "      <td>Topwear</td>\n",
       "      <td>Men</td>\n",
       "      <td>T-Shirts</td>\n",
       "      <td>Round Neck</td>\n",
       "      <td>Full</td>\n",
       "      <td>100% Cotton</td>\n",
       "      <td>T-Shirts</td>\n",
       "      <td>Men's Plain Full Sleeve T-Shirts</td>\n",
       "      <td>01-01-2016 00:13</td>\n",
       "      <td>Ghaziabad</td>\n",
       "      <td>Uttar Pradesh</td>\n",
       "    </tr>\n",
       "    <tr>\n",
       "      <th>4</th>\n",
       "      <td>3550749</td>\n",
       "      <td>1221355</td>\n",
       "      <td>1000</td>\n",
       "      <td>1</td>\n",
       "      <td>53238</td>\n",
       "      <td>2</td>\n",
       "      <td>570</td>\n",
       "      <td>Apparel</td>\n",
       "      <td>Topwear</td>\n",
       "      <td>Men</td>\n",
       "      <td>T-Shirts</td>\n",
       "      <td>Round Neck</td>\n",
       "      <td>Full</td>\n",
       "      <td>100% Cotton</td>\n",
       "      <td>T-Shirts</td>\n",
       "      <td>Men's Plain Sports Trim Fullsleeve T-Shirt</td>\n",
       "      <td>01-01-2016 00:13</td>\n",
       "      <td>Ghaziabad</td>\n",
       "      <td>Uttar Pradesh</td>\n",
       "    </tr>\n",
       "  </tbody>\n",
       "</table>\n",
       "</div>"
      ],
      "text/plain": [
       "   order_id  user_id  price  quantity  product_id  size_id  category_id  \\\n",
       "0   3550739    44879   1000         1       34584       19          382   \n",
       "1   3550743  1627343   1000         1       61354        3          622   \n",
       "2   3550745  1221355   1000         1       26898        4          456   \n",
       "3   3550747  1221355   1000         1       41284        2          200   \n",
       "4   3550749  1221355   1000         1       53238        2          570   \n",
       "\n",
       "      cat_type        subtype  gender       subclass        neck sleeve  \\\n",
       "0  Accessories  Mobile Covers  Unisex  Mobile Covers           0      0   \n",
       "1      Apparel        Topwear     Men       T-Shirts  Round Neck   Full   \n",
       "2      Apparel     Bottomwear     Men        Pyjamas           0      0   \n",
       "3      Apparel        Topwear     Men       T-Shirts  Round Neck   Full   \n",
       "4      Apparel        Topwear     Men       T-Shirts  Round Neck   Full   \n",
       "\n",
       "                     material   product_type  \\\n",
       "0  Polycarbonate Hard Plastic  Mobile Covers   \n",
       "1                 100% Cotton       T-Shirts   \n",
       "2                 100% Cotton        Pyjamas   \n",
       "3                 100% Cotton       T-Shirts   \n",
       "4                 100% Cotton       T-Shirts   \n",
       "\n",
       "                                    prod_name        created_at       city  \\\n",
       "0                   OnePlus One Mobile Covers  01-01-2016 00:07     Mumbai   \n",
       "1      Men's Plain Henley Fullsleeve T-Shirts  01-01-2016 00:11     Mumbai   \n",
       "2                         Men's Plain Pyjamas  01-01-2016 00:12  Ghaziabad   \n",
       "3            Men's Plain Full Sleeve T-Shirts  01-01-2016 00:13  Ghaziabad   \n",
       "4  Men's Plain Sports Trim Fullsleeve T-Shirt  01-01-2016 00:13  Ghaziabad   \n",
       "\n",
       "           state  \n",
       "0    Maharashtra  \n",
       "1    Maharashtra  \n",
       "2  Uttar Pradesh  \n",
       "3  Uttar Pradesh  \n",
       "4  Uttar Pradesh  "
      ]
     },
     "execution_count": 43,
     "metadata": {},
     "output_type": "execute_result"
    }
   ],
   "source": [
    "df2.head()"
   ]
  },
  {
   "cell_type": "markdown",
   "id": "53adb446",
   "metadata": {},
   "source": [
    "# Q1-The top 3 cities that the company should target"
   ]
  },
  {
   "cell_type": "code",
   "execution_count": 44,
   "id": "44178aec",
   "metadata": {},
   "outputs": [
    {
     "name": "stdout",
     "output_type": "stream",
     "text": [
      "Mumbai       5652\n",
      "Bangalore    3729\n",
      "Pune         2640\n",
      "Name: city, dtype: int64\n"
     ]
    }
   ],
   "source": [
    "top_cities = df2['city'].value_counts().nlargest(3)\n",
    "print(top_cities)\n"
   ]
  },
  {
   "cell_type": "markdown",
   "id": "8b1a5179",
   "metadata": {},
   "source": [
    "# Q2-Suggestions for online store and products"
   ]
  },
  {
   "cell_type": "code",
   "execution_count": 45,
   "id": "217dbce1",
   "metadata": {},
   "outputs": [
    {
     "name": "stdout",
     "output_type": "stream",
     "text": [
      "Suggest adding Men's Printed T-Shirts to the online store and targeting customers in Mumbai.\n"
     ]
    }
   ],
   "source": [
    "online_store = df2.groupby(['city', 'category_id', 'prod_name']).size().sort_values(ascending=False).reset_index(name='count')\n",
    "top_product = online_store.iloc[0]\n",
    "print(f\"Suggest adding {top_product['prod_name']} to the online store and targeting customers in {top_product['city']}.\")\n"
   ]
  },
  {
   "cell_type": "markdown",
   "id": "b0b03489",
   "metadata": {},
   "source": [
    "# Q3- Top products and product types"
   ]
  },
  {
   "cell_type": "code",
   "execution_count": 46,
   "id": "e6f02d50",
   "metadata": {},
   "outputs": [
    {
     "name": "stdout",
     "output_type": "stream",
     "text": [
      "Top products: Men's Printed T-Shirts, Men's Printed Full Sleeve T-Shirt, Women's Printed 3/4 Sleeve T-Shirts, Women's Plain 3/4 Sleeve T-Shirts, Men's Printed Pyjamas\n",
      "Top product types: T-Shirts, Mobile Covers, Pyjamas, Boxers, Joggers\n"
     ]
    }
   ],
   "source": [
    "top_products = df2['prod_name'].value_counts().nlargest(5)\n",
    "print(f\"Top products: {', '.join(top_products.index)}\")\n",
    "\n",
    "top_product_types = df2['product_type'].value_counts().nlargest(5)\n",
    "print(f\"Top product types: {', '.join(top_product_types.index)}\")\n"
   ]
  },
  {
   "cell_type": "markdown",
   "id": "f45cf8bb",
   "metadata": {},
   "source": [
    "# Q4-Top categories and types "
   ]
  },
  {
   "cell_type": "code",
   "execution_count": 47,
   "id": "f02ded21",
   "metadata": {},
   "outputs": [
    {
     "name": "stdout",
     "output_type": "stream",
     "text": [
      "Top categories: 160, 134, 352, 348, 113\n",
      "Top subtypes: Topwear, Bottomwear, Mobile Covers, Gift Cards\n"
     ]
    }
   ],
   "source": [
    "top_categories = df2['category_id'].value_counts().head(5).index.astype(str).tolist()\n",
    "print(f\"Top categories: {', '.join(top_categories)}\")\n",
    "\n",
    "top_subtypes = df2['subtype'].value_counts().head(5).index.astype(str).tolist()\n",
    "print(f\"Top subtypes: {', '.join(top_subtypes)}\")\n"
   ]
  },
  {
   "cell_type": "markdown",
   "id": "dd0517db",
   "metadata": {},
   "source": [
    "# RFM ANALYSIS"
   ]
  },
  {
   "cell_type": "markdown",
   "id": "6fa3defa",
   "metadata": {},
   "source": [
    "## RFM analysis is a technique used in marketing to segment and analyze customers based on their past behavior. The acronym RFM stands for:\n",
    "\n",
    "### Recency: When was the last time a customer made a purchase?\n",
    "### Frequency: How often does the customer make purchases?\n",
    "### Monetary: How much money has the customer spent on purchases?\n",
    "### RFM analysis involves assigning a score to each customer based on these three criteria, with higher scores indicating more valuable customers. For example, a customer who made a purchase recently, makes frequent purchases, and spends a lot of money would receive a high RFM score.\n",
    "\n",
    "### The resulting RFM scores can be used to identify different customer segments and inform marketing strategies, such as targeted promotions or personalized messaging. Additionally, RFM analysis can be used to predict which customers are most likely to make future purchases and to identify customers who are at risk of churn."
   ]
  },
  {
   "cell_type": "code",
   "execution_count": 48,
   "id": "1769ce66",
   "metadata": {},
   "outputs": [
    {
     "data": {
      "text/html": [
       "<div>\n",
       "<style scoped>\n",
       "    .dataframe tbody tr th:only-of-type {\n",
       "        vertical-align: middle;\n",
       "    }\n",
       "\n",
       "    .dataframe tbody tr th {\n",
       "        vertical-align: top;\n",
       "    }\n",
       "\n",
       "    .dataframe thead th {\n",
       "        text-align: right;\n",
       "    }\n",
       "</style>\n",
       "<table border=\"1\" class=\"dataframe\">\n",
       "  <thead>\n",
       "    <tr style=\"text-align: right;\">\n",
       "      <th></th>\n",
       "      <th>order_id</th>\n",
       "      <th>user_id</th>\n",
       "      <th>price</th>\n",
       "      <th>quantity</th>\n",
       "      <th>product_id</th>\n",
       "      <th>size_id</th>\n",
       "      <th>category_id</th>\n",
       "      <th>cat_type</th>\n",
       "      <th>subtype</th>\n",
       "      <th>gender</th>\n",
       "      <th>subclass</th>\n",
       "      <th>neck</th>\n",
       "      <th>sleeve</th>\n",
       "      <th>material</th>\n",
       "      <th>product_type</th>\n",
       "      <th>prod_name</th>\n",
       "      <th>created_at</th>\n",
       "      <th>city</th>\n",
       "      <th>state</th>\n",
       "    </tr>\n",
       "  </thead>\n",
       "  <tbody>\n",
       "    <tr>\n",
       "      <th>0</th>\n",
       "      <td>3550739</td>\n",
       "      <td>44879</td>\n",
       "      <td>1000</td>\n",
       "      <td>1</td>\n",
       "      <td>34584</td>\n",
       "      <td>19</td>\n",
       "      <td>382</td>\n",
       "      <td>Accessories</td>\n",
       "      <td>Mobile Covers</td>\n",
       "      <td>Unisex</td>\n",
       "      <td>Mobile Covers</td>\n",
       "      <td>0</td>\n",
       "      <td>0</td>\n",
       "      <td>Polycarbonate Hard Plastic</td>\n",
       "      <td>Mobile Covers</td>\n",
       "      <td>OnePlus One Mobile Covers</td>\n",
       "      <td>01-01-2016 00:07</td>\n",
       "      <td>Mumbai</td>\n",
       "      <td>Maharashtra</td>\n",
       "    </tr>\n",
       "    <tr>\n",
       "      <th>1</th>\n",
       "      <td>3550743</td>\n",
       "      <td>1627343</td>\n",
       "      <td>1000</td>\n",
       "      <td>1</td>\n",
       "      <td>61354</td>\n",
       "      <td>3</td>\n",
       "      <td>622</td>\n",
       "      <td>Apparel</td>\n",
       "      <td>Topwear</td>\n",
       "      <td>Men</td>\n",
       "      <td>T-Shirts</td>\n",
       "      <td>Round Neck</td>\n",
       "      <td>Full</td>\n",
       "      <td>100% Cotton</td>\n",
       "      <td>T-Shirts</td>\n",
       "      <td>Men's Plain Henley Fullsleeve T-Shirts</td>\n",
       "      <td>01-01-2016 00:11</td>\n",
       "      <td>Mumbai</td>\n",
       "      <td>Maharashtra</td>\n",
       "    </tr>\n",
       "    <tr>\n",
       "      <th>2</th>\n",
       "      <td>3550745</td>\n",
       "      <td>1221355</td>\n",
       "      <td>1000</td>\n",
       "      <td>1</td>\n",
       "      <td>26898</td>\n",
       "      <td>4</td>\n",
       "      <td>456</td>\n",
       "      <td>Apparel</td>\n",
       "      <td>Bottomwear</td>\n",
       "      <td>Men</td>\n",
       "      <td>Pyjamas</td>\n",
       "      <td>0</td>\n",
       "      <td>0</td>\n",
       "      <td>100% Cotton</td>\n",
       "      <td>Pyjamas</td>\n",
       "      <td>Men's Plain Pyjamas</td>\n",
       "      <td>01-01-2016 00:12</td>\n",
       "      <td>Ghaziabad</td>\n",
       "      <td>Uttar Pradesh</td>\n",
       "    </tr>\n",
       "    <tr>\n",
       "      <th>3</th>\n",
       "      <td>3550747</td>\n",
       "      <td>1221355</td>\n",
       "      <td>1000</td>\n",
       "      <td>1</td>\n",
       "      <td>41284</td>\n",
       "      <td>2</td>\n",
       "      <td>200</td>\n",
       "      <td>Apparel</td>\n",
       "      <td>Topwear</td>\n",
       "      <td>Men</td>\n",
       "      <td>T-Shirts</td>\n",
       "      <td>Round Neck</td>\n",
       "      <td>Full</td>\n",
       "      <td>100% Cotton</td>\n",
       "      <td>T-Shirts</td>\n",
       "      <td>Men's Plain Full Sleeve T-Shirts</td>\n",
       "      <td>01-01-2016 00:13</td>\n",
       "      <td>Ghaziabad</td>\n",
       "      <td>Uttar Pradesh</td>\n",
       "    </tr>\n",
       "    <tr>\n",
       "      <th>4</th>\n",
       "      <td>3550749</td>\n",
       "      <td>1221355</td>\n",
       "      <td>1000</td>\n",
       "      <td>1</td>\n",
       "      <td>53238</td>\n",
       "      <td>2</td>\n",
       "      <td>570</td>\n",
       "      <td>Apparel</td>\n",
       "      <td>Topwear</td>\n",
       "      <td>Men</td>\n",
       "      <td>T-Shirts</td>\n",
       "      <td>Round Neck</td>\n",
       "      <td>Full</td>\n",
       "      <td>100% Cotton</td>\n",
       "      <td>T-Shirts</td>\n",
       "      <td>Men's Plain Sports Trim Fullsleeve T-Shirt</td>\n",
       "      <td>01-01-2016 00:13</td>\n",
       "      <td>Ghaziabad</td>\n",
       "      <td>Uttar Pradesh</td>\n",
       "    </tr>\n",
       "  </tbody>\n",
       "</table>\n",
       "</div>"
      ],
      "text/plain": [
       "   order_id  user_id  price  quantity  product_id  size_id  category_id  \\\n",
       "0   3550739    44879   1000         1       34584       19          382   \n",
       "1   3550743  1627343   1000         1       61354        3          622   \n",
       "2   3550745  1221355   1000         1       26898        4          456   \n",
       "3   3550747  1221355   1000         1       41284        2          200   \n",
       "4   3550749  1221355   1000         1       53238        2          570   \n",
       "\n",
       "      cat_type        subtype  gender       subclass        neck sleeve  \\\n",
       "0  Accessories  Mobile Covers  Unisex  Mobile Covers           0      0   \n",
       "1      Apparel        Topwear     Men       T-Shirts  Round Neck   Full   \n",
       "2      Apparel     Bottomwear     Men        Pyjamas           0      0   \n",
       "3      Apparel        Topwear     Men       T-Shirts  Round Neck   Full   \n",
       "4      Apparel        Topwear     Men       T-Shirts  Round Neck   Full   \n",
       "\n",
       "                     material   product_type  \\\n",
       "0  Polycarbonate Hard Plastic  Mobile Covers   \n",
       "1                 100% Cotton       T-Shirts   \n",
       "2                 100% Cotton        Pyjamas   \n",
       "3                 100% Cotton       T-Shirts   \n",
       "4                 100% Cotton       T-Shirts   \n",
       "\n",
       "                                    prod_name        created_at       city  \\\n",
       "0                   OnePlus One Mobile Covers  01-01-2016 00:07     Mumbai   \n",
       "1      Men's Plain Henley Fullsleeve T-Shirts  01-01-2016 00:11     Mumbai   \n",
       "2                         Men's Plain Pyjamas  01-01-2016 00:12  Ghaziabad   \n",
       "3            Men's Plain Full Sleeve T-Shirts  01-01-2016 00:13  Ghaziabad   \n",
       "4  Men's Plain Sports Trim Fullsleeve T-Shirt  01-01-2016 00:13  Ghaziabad   \n",
       "\n",
       "           state  \n",
       "0    Maharashtra  \n",
       "1    Maharashtra  \n",
       "2  Uttar Pradesh  \n",
       "3  Uttar Pradesh  \n",
       "4  Uttar Pradesh  "
      ]
     },
     "execution_count": 48,
     "metadata": {},
     "output_type": "execute_result"
    }
   ],
   "source": [
    "df2.head()"
   ]
  },
  {
   "cell_type": "markdown",
   "id": "ee484ad7",
   "metadata": {},
   "source": [
    "# Q5-Analyze the old customers based on RFM(Recency, Frequency, and Monetary Value)"
   ]
  },
  {
   "cell_type": "code",
   "execution_count": 50,
   "id": "acd30bbe",
   "metadata": {},
   "outputs": [
    {
     "data": {
      "text/html": [
       "<div>\n",
       "<style scoped>\n",
       "    .dataframe tbody tr th:only-of-type {\n",
       "        vertical-align: middle;\n",
       "    }\n",
       "\n",
       "    .dataframe tbody tr th {\n",
       "        vertical-align: top;\n",
       "    }\n",
       "\n",
       "    .dataframe thead th {\n",
       "        text-align: right;\n",
       "    }\n",
       "</style>\n",
       "<table border=\"1\" class=\"dataframe\">\n",
       "  <thead>\n",
       "    <tr style=\"text-align: right;\">\n",
       "      <th></th>\n",
       "      <th>user_id</th>\n",
       "      <th>recency</th>\n",
       "      <th>frequency</th>\n",
       "      <th>monetary</th>\n",
       "    </tr>\n",
       "  </thead>\n",
       "  <tbody>\n",
       "    <tr>\n",
       "      <th>16164</th>\n",
       "      <td>1654301</td>\n",
       "      <td>2618</td>\n",
       "      <td>108</td>\n",
       "      <td>108000</td>\n",
       "    </tr>\n",
       "    <tr>\n",
       "      <th>16070</th>\n",
       "      <td>1653731</td>\n",
       "      <td>2618</td>\n",
       "      <td>66</td>\n",
       "      <td>66000</td>\n",
       "    </tr>\n",
       "    <tr>\n",
       "      <th>20633</th>\n",
       "      <td>1682559</td>\n",
       "      <td>2616</td>\n",
       "      <td>34</td>\n",
       "      <td>34000</td>\n",
       "    </tr>\n",
       "    <tr>\n",
       "      <th>19508</th>\n",
       "      <td>1675049</td>\n",
       "      <td>2621</td>\n",
       "      <td>29</td>\n",
       "      <td>29000</td>\n",
       "    </tr>\n",
       "    <tr>\n",
       "      <th>12893</th>\n",
       "      <td>1635961</td>\n",
       "      <td>2633</td>\n",
       "      <td>21</td>\n",
       "      <td>21000</td>\n",
       "    </tr>\n",
       "    <tr>\n",
       "      <th>62</th>\n",
       "      <td>9827</td>\n",
       "      <td>2617</td>\n",
       "      <td>20</td>\n",
       "      <td>20000</td>\n",
       "    </tr>\n",
       "    <tr>\n",
       "      <th>10429</th>\n",
       "      <td>1596525</td>\n",
       "      <td>2636</td>\n",
       "      <td>19</td>\n",
       "      <td>19000</td>\n",
       "    </tr>\n",
       "    <tr>\n",
       "      <th>11381</th>\n",
       "      <td>1626791</td>\n",
       "      <td>2631</td>\n",
       "      <td>18</td>\n",
       "      <td>18000</td>\n",
       "    </tr>\n",
       "    <tr>\n",
       "      <th>16410</th>\n",
       "      <td>1655729</td>\n",
       "      <td>2618</td>\n",
       "      <td>17</td>\n",
       "      <td>17000</td>\n",
       "    </tr>\n",
       "    <tr>\n",
       "      <th>17768</th>\n",
       "      <td>1663817</td>\n",
       "      <td>2625</td>\n",
       "      <td>17</td>\n",
       "      <td>17000</td>\n",
       "    </tr>\n",
       "  </tbody>\n",
       "</table>\n",
       "</div>"
      ],
      "text/plain": [
       "       user_id  recency  frequency  monetary\n",
       "16164  1654301     2618        108    108000\n",
       "16070  1653731     2618         66     66000\n",
       "20633  1682559     2616         34     34000\n",
       "19508  1675049     2621         29     29000\n",
       "12893  1635961     2633         21     21000\n",
       "62        9827     2617         20     20000\n",
       "10429  1596525     2636         19     19000\n",
       "11381  1626791     2631         18     18000\n",
       "16410  1655729     2618         17     17000\n",
       "17768  1663817     2625         17     17000"
      ]
     },
     "metadata": {},
     "output_type": "display_data"
    }
   ],
   "source": [
    "import pandas as pd\n",
    "from datetime import datetime\n",
    "\n",
    "\n",
    "# Convert the 'created_at' column to a datetime object\n",
    "df2['created_at'] = pd.to_datetime(df2['created_at'])\n",
    "\n",
    "# Calculate the RFM metrics for each customer\n",
    "today = datetime.today()\n",
    "rfm = df2.groupby('user_id').agg({\n",
    "    'created_at': lambda x: (today - x.max()).days,   # Recency\n",
    "    'order_id': 'count',   # Frequency\n",
    "    'price': 'sum'   # Monetary Value\n",
    "}).reset_index()\n",
    "\n",
    "# Rename the columns for easier interpretation\n",
    "rfm.columns = ['user_id', 'recency', 'frequency', 'monetary']\n",
    "\n",
    "# Print the top 10 customers based on monetary value\n",
    "display(rfm.sort_values('monetary', ascending=False).head(10))\n"
   ]
  },
  {
   "cell_type": "markdown",
   "id": "c8ee6ee1",
   "metadata": {},
   "source": [
    "# Q6-Analyze the new customers based on RFM"
   ]
  },
  {
   "cell_type": "code",
   "execution_count": 52,
   "id": "41c36468",
   "metadata": {},
   "outputs": [
    {
     "name": "stdout",
     "output_type": "stream",
     "text": [
      "Empty DataFrame\n",
      "Columns: [user_id, recency, frequency, monetary]\n",
      "Index: []\n"
     ]
    }
   ],
   "source": [
    "import pandas as pd\n",
    "from datetime import datetime\n",
    "\n",
    "\n",
    "# Convert the 'created_at' column to a datetime object\n",
    "df2['created_at'] = pd.to_datetime(df2['created_at'])\n",
    "\n",
    "# Define the time period for new customers (e.g., last 30 days)\n",
    "new_customers_period = datetime.today() - pd.Timedelta(days=30)\n",
    "\n",
    "# Filter the DataFrame to only include new customers\n",
    "new_customers = df2[df2['created_at'] >= new_customers_period]\n",
    "\n",
    "# Calculate the RFM metrics for each new customer\n",
    "today = datetime.today()\n",
    "rfm = new_customers.groupby('user_id').agg({\n",
    "    'created_at': lambda x: (today - x.max()).days,   # Recency\n",
    "    'order_id': 'count',   # Frequency\n",
    "    'price': 'sum'   # Monetary Value\n",
    "}).reset_index()\n",
    "\n",
    "# Rename the columns for easier interpretation\n",
    "rfm.columns = ['user_id', 'recency', 'frequency', 'monetary']\n",
    "\n",
    "# Print the top 10 new customers based on monetary value\n",
    "print(rfm.sort_values('monetary', ascending=False).head(10))\n"
   ]
  },
  {
   "cell_type": "markdown",
   "id": "77a14bd1",
   "metadata": {},
   "source": [
    "# Q7-Find what the old and new customers are buying, at what time they are buying, and at what day of the month they are buying?"
   ]
  },
  {
   "cell_type": "code",
   "execution_count": 54,
   "id": "170a4cce",
   "metadata": {},
   "outputs": [
    {
     "data": {
      "text/plain": [
       "'Sales by Time of Day:'"
      ]
     },
     "metadata": {},
     "output_type": "display_data"
    },
    {
     "data": {
      "text/html": [
       "<div>\n",
       "<style scoped>\n",
       "    .dataframe tbody tr th:only-of-type {\n",
       "        vertical-align: middle;\n",
       "    }\n",
       "\n",
       "    .dataframe tbody tr th {\n",
       "        vertical-align: top;\n",
       "    }\n",
       "\n",
       "    .dataframe thead th {\n",
       "        text-align: right;\n",
       "    }\n",
       "</style>\n",
       "<table border=\"1\" class=\"dataframe\">\n",
       "  <thead>\n",
       "    <tr style=\"text-align: right;\">\n",
       "      <th></th>\n",
       "      <th>hour</th>\n",
       "      <th>order_id</th>\n",
       "      <th>price</th>\n",
       "    </tr>\n",
       "  </thead>\n",
       "  <tbody>\n",
       "    <tr>\n",
       "      <th>0</th>\n",
       "      <td>0</td>\n",
       "      <td>2015</td>\n",
       "      <td>2015000</td>\n",
       "    </tr>\n",
       "    <tr>\n",
       "      <th>1</th>\n",
       "      <td>1</td>\n",
       "      <td>1334</td>\n",
       "      <td>1334000</td>\n",
       "    </tr>\n",
       "    <tr>\n",
       "      <th>2</th>\n",
       "      <td>2</td>\n",
       "      <td>673</td>\n",
       "      <td>673000</td>\n",
       "    </tr>\n",
       "    <tr>\n",
       "      <th>3</th>\n",
       "      <td>3</td>\n",
       "      <td>445</td>\n",
       "      <td>445000</td>\n",
       "    </tr>\n",
       "    <tr>\n",
       "      <th>4</th>\n",
       "      <td>4</td>\n",
       "      <td>194</td>\n",
       "      <td>194000</td>\n",
       "    </tr>\n",
       "    <tr>\n",
       "      <th>5</th>\n",
       "      <td>5</td>\n",
       "      <td>131</td>\n",
       "      <td>131000</td>\n",
       "    </tr>\n",
       "    <tr>\n",
       "      <th>6</th>\n",
       "      <td>6</td>\n",
       "      <td>148</td>\n",
       "      <td>148000</td>\n",
       "    </tr>\n",
       "    <tr>\n",
       "      <th>7</th>\n",
       "      <td>7</td>\n",
       "      <td>309</td>\n",
       "      <td>309000</td>\n",
       "    </tr>\n",
       "    <tr>\n",
       "      <th>8</th>\n",
       "      <td>8</td>\n",
       "      <td>643</td>\n",
       "      <td>643000</td>\n",
       "    </tr>\n",
       "    <tr>\n",
       "      <th>9</th>\n",
       "      <td>9</td>\n",
       "      <td>1031</td>\n",
       "      <td>1031000</td>\n",
       "    </tr>\n",
       "    <tr>\n",
       "      <th>10</th>\n",
       "      <td>10</td>\n",
       "      <td>1655</td>\n",
       "      <td>1655000</td>\n",
       "    </tr>\n",
       "    <tr>\n",
       "      <th>11</th>\n",
       "      <td>11</td>\n",
       "      <td>2241</td>\n",
       "      <td>2241000</td>\n",
       "    </tr>\n",
       "    <tr>\n",
       "      <th>12</th>\n",
       "      <td>12</td>\n",
       "      <td>2379</td>\n",
       "      <td>2379000</td>\n",
       "    </tr>\n",
       "    <tr>\n",
       "      <th>13</th>\n",
       "      <td>13</td>\n",
       "      <td>2169</td>\n",
       "      <td>2169000</td>\n",
       "    </tr>\n",
       "    <tr>\n",
       "      <th>14</th>\n",
       "      <td>14</td>\n",
       "      <td>2514</td>\n",
       "      <td>2514000</td>\n",
       "    </tr>\n",
       "    <tr>\n",
       "      <th>15</th>\n",
       "      <td>15</td>\n",
       "      <td>2206</td>\n",
       "      <td>2206000</td>\n",
       "    </tr>\n",
       "    <tr>\n",
       "      <th>16</th>\n",
       "      <td>16</td>\n",
       "      <td>2129</td>\n",
       "      <td>2129000</td>\n",
       "    </tr>\n",
       "    <tr>\n",
       "      <th>17</th>\n",
       "      <td>17</td>\n",
       "      <td>2249</td>\n",
       "      <td>2249000</td>\n",
       "    </tr>\n",
       "    <tr>\n",
       "      <th>18</th>\n",
       "      <td>18</td>\n",
       "      <td>2209</td>\n",
       "      <td>2209000</td>\n",
       "    </tr>\n",
       "    <tr>\n",
       "      <th>19</th>\n",
       "      <td>19</td>\n",
       "      <td>2343</td>\n",
       "      <td>2343000</td>\n",
       "    </tr>\n",
       "    <tr>\n",
       "      <th>20</th>\n",
       "      <td>20</td>\n",
       "      <td>2421</td>\n",
       "      <td>2421000</td>\n",
       "    </tr>\n",
       "    <tr>\n",
       "      <th>21</th>\n",
       "      <td>21</td>\n",
       "      <td>2722</td>\n",
       "      <td>2722000</td>\n",
       "    </tr>\n",
       "    <tr>\n",
       "      <th>22</th>\n",
       "      <td>22</td>\n",
       "      <td>3096</td>\n",
       "      <td>3096000</td>\n",
       "    </tr>\n",
       "    <tr>\n",
       "      <th>23</th>\n",
       "      <td>23</td>\n",
       "      <td>2896</td>\n",
       "      <td>2896000</td>\n",
       "    </tr>\n",
       "  </tbody>\n",
       "</table>\n",
       "</div>"
      ],
      "text/plain": [
       "    hour  order_id    price\n",
       "0      0      2015  2015000\n",
       "1      1      1334  1334000\n",
       "2      2       673   673000\n",
       "3      3       445   445000\n",
       "4      4       194   194000\n",
       "5      5       131   131000\n",
       "6      6       148   148000\n",
       "7      7       309   309000\n",
       "8      8       643   643000\n",
       "9      9      1031  1031000\n",
       "10    10      1655  1655000\n",
       "11    11      2241  2241000\n",
       "12    12      2379  2379000\n",
       "13    13      2169  2169000\n",
       "14    14      2514  2514000\n",
       "15    15      2206  2206000\n",
       "16    16      2129  2129000\n",
       "17    17      2249  2249000\n",
       "18    18      2209  2209000\n",
       "19    19      2343  2343000\n",
       "20    20      2421  2421000\n",
       "21    21      2722  2722000\n",
       "22    22      3096  3096000\n",
       "23    23      2896  2896000"
      ]
     },
     "metadata": {},
     "output_type": "display_data"
    },
    {
     "data": {
      "text/plain": [
       "'Sales by Day of the Month:'"
      ]
     },
     "metadata": {},
     "output_type": "display_data"
    },
    {
     "data": {
      "text/html": [
       "<div>\n",
       "<style scoped>\n",
       "    .dataframe tbody tr th:only-of-type {\n",
       "        vertical-align: middle;\n",
       "    }\n",
       "\n",
       "    .dataframe tbody tr th {\n",
       "        vertical-align: top;\n",
       "    }\n",
       "\n",
       "    .dataframe thead th {\n",
       "        text-align: right;\n",
       "    }\n",
       "</style>\n",
       "<table border=\"1\" class=\"dataframe\">\n",
       "  <thead>\n",
       "    <tr style=\"text-align: right;\">\n",
       "      <th></th>\n",
       "      <th>day</th>\n",
       "      <th>order_id</th>\n",
       "      <th>price</th>\n",
       "    </tr>\n",
       "  </thead>\n",
       "  <tbody>\n",
       "    <tr>\n",
       "      <th>0</th>\n",
       "      <td>1</td>\n",
       "      <td>985</td>\n",
       "      <td>985000</td>\n",
       "    </tr>\n",
       "    <tr>\n",
       "      <th>1</th>\n",
       "      <td>2</td>\n",
       "      <td>1417</td>\n",
       "      <td>1417000</td>\n",
       "    </tr>\n",
       "    <tr>\n",
       "      <th>2</th>\n",
       "      <td>3</td>\n",
       "      <td>1507</td>\n",
       "      <td>1507000</td>\n",
       "    </tr>\n",
       "    <tr>\n",
       "      <th>3</th>\n",
       "      <td>4</td>\n",
       "      <td>1356</td>\n",
       "      <td>1356000</td>\n",
       "    </tr>\n",
       "    <tr>\n",
       "      <th>4</th>\n",
       "      <td>5</td>\n",
       "      <td>1635</td>\n",
       "      <td>1635000</td>\n",
       "    </tr>\n",
       "    <tr>\n",
       "      <th>5</th>\n",
       "      <td>6</td>\n",
       "      <td>1506</td>\n",
       "      <td>1506000</td>\n",
       "    </tr>\n",
       "    <tr>\n",
       "      <th>6</th>\n",
       "      <td>7</td>\n",
       "      <td>1485</td>\n",
       "      <td>1485000</td>\n",
       "    </tr>\n",
       "    <tr>\n",
       "      <th>7</th>\n",
       "      <td>8</td>\n",
       "      <td>1641</td>\n",
       "      <td>1641000</td>\n",
       "    </tr>\n",
       "    <tr>\n",
       "      <th>8</th>\n",
       "      <td>9</td>\n",
       "      <td>1640</td>\n",
       "      <td>1640000</td>\n",
       "    </tr>\n",
       "    <tr>\n",
       "      <th>9</th>\n",
       "      <td>10</td>\n",
       "      <td>1585</td>\n",
       "      <td>1585000</td>\n",
       "    </tr>\n",
       "    <tr>\n",
       "      <th>10</th>\n",
       "      <td>11</td>\n",
       "      <td>1413</td>\n",
       "      <td>1413000</td>\n",
       "    </tr>\n",
       "    <tr>\n",
       "      <th>11</th>\n",
       "      <td>12</td>\n",
       "      <td>1256</td>\n",
       "      <td>1256000</td>\n",
       "    </tr>\n",
       "    <tr>\n",
       "      <th>12</th>\n",
       "      <td>13</td>\n",
       "      <td>1400</td>\n",
       "      <td>1400000</td>\n",
       "    </tr>\n",
       "    <tr>\n",
       "      <th>13</th>\n",
       "      <td>14</td>\n",
       "      <td>1315</td>\n",
       "      <td>1315000</td>\n",
       "    </tr>\n",
       "    <tr>\n",
       "      <th>14</th>\n",
       "      <td>15</td>\n",
       "      <td>1253</td>\n",
       "      <td>1253000</td>\n",
       "    </tr>\n",
       "    <tr>\n",
       "      <th>15</th>\n",
       "      <td>16</td>\n",
       "      <td>1377</td>\n",
       "      <td>1377000</td>\n",
       "    </tr>\n",
       "    <tr>\n",
       "      <th>16</th>\n",
       "      <td>17</td>\n",
       "      <td>1249</td>\n",
       "      <td>1249000</td>\n",
       "    </tr>\n",
       "    <tr>\n",
       "      <th>17</th>\n",
       "      <td>18</td>\n",
       "      <td>1231</td>\n",
       "      <td>1231000</td>\n",
       "    </tr>\n",
       "    <tr>\n",
       "      <th>18</th>\n",
       "      <td>19</td>\n",
       "      <td>1265</td>\n",
       "      <td>1265000</td>\n",
       "    </tr>\n",
       "    <tr>\n",
       "      <th>19</th>\n",
       "      <td>20</td>\n",
       "      <td>1244</td>\n",
       "      <td>1244000</td>\n",
       "    </tr>\n",
       "    <tr>\n",
       "      <th>20</th>\n",
       "      <td>21</td>\n",
       "      <td>1321</td>\n",
       "      <td>1321000</td>\n",
       "    </tr>\n",
       "    <tr>\n",
       "      <th>21</th>\n",
       "      <td>22</td>\n",
       "      <td>1254</td>\n",
       "      <td>1254000</td>\n",
       "    </tr>\n",
       "    <tr>\n",
       "      <th>22</th>\n",
       "      <td>23</td>\n",
       "      <td>1249</td>\n",
       "      <td>1249000</td>\n",
       "    </tr>\n",
       "    <tr>\n",
       "      <th>23</th>\n",
       "      <td>24</td>\n",
       "      <td>1267</td>\n",
       "      <td>1267000</td>\n",
       "    </tr>\n",
       "    <tr>\n",
       "      <th>24</th>\n",
       "      <td>25</td>\n",
       "      <td>1162</td>\n",
       "      <td>1162000</td>\n",
       "    </tr>\n",
       "    <tr>\n",
       "      <th>25</th>\n",
       "      <td>26</td>\n",
       "      <td>1340</td>\n",
       "      <td>1340000</td>\n",
       "    </tr>\n",
       "    <tr>\n",
       "      <th>26</th>\n",
       "      <td>27</td>\n",
       "      <td>1129</td>\n",
       "      <td>1129000</td>\n",
       "    </tr>\n",
       "    <tr>\n",
       "      <th>27</th>\n",
       "      <td>28</td>\n",
       "      <td>1166</td>\n",
       "      <td>1166000</td>\n",
       "    </tr>\n",
       "    <tr>\n",
       "      <th>28</th>\n",
       "      <td>29</td>\n",
       "      <td>1174</td>\n",
       "      <td>1174000</td>\n",
       "    </tr>\n",
       "    <tr>\n",
       "      <th>29</th>\n",
       "      <td>30</td>\n",
       "      <td>1330</td>\n",
       "      <td>1330000</td>\n",
       "    </tr>\n",
       "  </tbody>\n",
       "</table>\n",
       "</div>"
      ],
      "text/plain": [
       "    day  order_id    price\n",
       "0     1       985   985000\n",
       "1     2      1417  1417000\n",
       "2     3      1507  1507000\n",
       "3     4      1356  1356000\n",
       "4     5      1635  1635000\n",
       "5     6      1506  1506000\n",
       "6     7      1485  1485000\n",
       "7     8      1641  1641000\n",
       "8     9      1640  1640000\n",
       "9    10      1585  1585000\n",
       "10   11      1413  1413000\n",
       "11   12      1256  1256000\n",
       "12   13      1400  1400000\n",
       "13   14      1315  1315000\n",
       "14   15      1253  1253000\n",
       "15   16      1377  1377000\n",
       "16   17      1249  1249000\n",
       "17   18      1231  1231000\n",
       "18   19      1265  1265000\n",
       "19   20      1244  1244000\n",
       "20   21      1321  1321000\n",
       "21   22      1254  1254000\n",
       "22   23      1249  1249000\n",
       "23   24      1267  1267000\n",
       "24   25      1162  1162000\n",
       "25   26      1340  1340000\n",
       "26   27      1129  1129000\n",
       "27   28      1166  1166000\n",
       "28   29      1174  1174000\n",
       "29   30      1330  1330000"
      ]
     },
     "metadata": {},
     "output_type": "display_data"
    }
   ],
   "source": [
    "import pandas as pd\n",
    "\n",
    "\n",
    "# Convert the 'created_at' column to a datetime object\n",
    "df2['created_at'] = pd.to_datetime(df2['created_at'])\n",
    "\n",
    "# Group the data by time of day and calculate the number of purchases and the total monetary value\n",
    "df2['hour'] = df2['created_at'].dt.hour\n",
    "time_sales = df2.groupby('hour').agg({\n",
    "    'order_id': 'count',\n",
    "    'price': 'sum'\n",
    "}).reset_index()\n",
    "\n",
    "# Group the data by day of the month and calculate the number of purchases and the total monetary value\n",
    "df2['day'] = df2['created_at'].dt.day\n",
    "day_sales = df2.groupby('day').agg({\n",
    "    'order_id': 'count',\n",
    "    'price': 'sum'\n",
    "}).reset_index()\n",
    "\n",
    "# Print the results\n",
    "display('Sales by Time of Day:')\n",
    "display(time_sales)\n",
    "display('Sales by Day of the Month:')\n",
    "display(day_sales)\n"
   ]
  },
  {
   "cell_type": "markdown",
   "id": "ca6a4344",
   "metadata": {},
   "source": [
    "# Q8-Is it fine to launch offers on weekdays or weekends?"
   ]
  },
  {
   "cell_type": "code",
   "execution_count": 56,
   "id": "fe181225",
   "metadata": {},
   "outputs": [
    {
     "data": {
      "text/plain": [
       "'Sales by Day of the Week:'"
      ]
     },
     "metadata": {},
     "output_type": "display_data"
    },
    {
     "data": {
      "text/html": [
       "<div>\n",
       "<style scoped>\n",
       "    .dataframe tbody tr th:only-of-type {\n",
       "        vertical-align: middle;\n",
       "    }\n",
       "\n",
       "    .dataframe tbody tr th {\n",
       "        vertical-align: top;\n",
       "    }\n",
       "\n",
       "    .dataframe thead th {\n",
       "        text-align: right;\n",
       "    }\n",
       "</style>\n",
       "<table border=\"1\" class=\"dataframe\">\n",
       "  <thead>\n",
       "    <tr style=\"text-align: right;\">\n",
       "      <th></th>\n",
       "      <th>day_of_week</th>\n",
       "      <th>price</th>\n",
       "    </tr>\n",
       "  </thead>\n",
       "  <tbody>\n",
       "    <tr>\n",
       "      <th>0</th>\n",
       "      <td>0</td>\n",
       "      <td>5162000</td>\n",
       "    </tr>\n",
       "    <tr>\n",
       "      <th>1</th>\n",
       "      <td>1</td>\n",
       "      <td>5496000</td>\n",
       "    </tr>\n",
       "    <tr>\n",
       "      <th>2</th>\n",
       "      <td>2</td>\n",
       "      <td>5279000</td>\n",
       "    </tr>\n",
       "    <tr>\n",
       "      <th>3</th>\n",
       "      <td>3</td>\n",
       "      <td>5287000</td>\n",
       "    </tr>\n",
       "    <tr>\n",
       "      <th>4</th>\n",
       "      <td>4</td>\n",
       "      <td>6307000</td>\n",
       "    </tr>\n",
       "    <tr>\n",
       "      <th>5</th>\n",
       "      <td>5</td>\n",
       "      <td>7013000</td>\n",
       "    </tr>\n",
       "    <tr>\n",
       "      <th>6</th>\n",
       "      <td>6</td>\n",
       "      <td>5608000</td>\n",
       "    </tr>\n",
       "  </tbody>\n",
       "</table>\n",
       "</div>"
      ],
      "text/plain": [
       "   day_of_week    price\n",
       "0            0  5162000\n",
       "1            1  5496000\n",
       "2            2  5279000\n",
       "3            3  5287000\n",
       "4            4  6307000\n",
       "5            5  7013000\n",
       "6            6  5608000"
      ]
     },
     "metadata": {},
     "output_type": "display_data"
    }
   ],
   "source": [
    "import pandas as pd\n",
    "\n",
    "\n",
    "# Convert the 'created_at' column to a datetime object\n",
    "df2['created_at'] = pd.to_datetime(df2['created_at'])\n",
    "\n",
    "# Group the data by day of the week and calculate the total monetary value of sales for each day\n",
    "df2['day_of_week'] = df2['created_at'].dt.dayofweek\n",
    "day_sales = df2.groupby('day_of_week').agg({'price': 'sum'}).reset_index()\n",
    "\n",
    "# Print the results\n",
    "display('Sales by Day of the Week:')\n",
    "display(day_sales)\n"
   ]
  },
  {
   "cell_type": "markdown",
   "id": "cc90bfe0",
   "metadata": {},
   "source": [
    "# Q9-What are some interesting insights that you can infer from the data?"
   ]
  },
  {
   "cell_type": "markdown",
   "id": "25f782cf",
   "metadata": {},
   "source": [
    "## ANSWERS-->>"
   ]
  },
  {
   "cell_type": "markdown",
   "id": "40371966",
   "metadata": {},
   "source": [
    "## Which products are the most popular among customers\n",
    "## Which days of the month have the highest sales\n",
    "## Which times of day have the highest sales\n",
    "## The distribution of sales across different categories and subcategories\n",
    "## The average order value and how it varies by customer segment\n",
    "## The percentage of orders that come from returning customers vs. new customers"
   ]
  },
  {
   "cell_type": "markdown",
   "id": "802033be",
   "metadata": {},
   "source": [
    "# Q10-Which day of the month gets them the best sales?"
   ]
  },
  {
   "cell_type": "code",
   "execution_count": 58,
   "id": "bc9a3c8b",
   "metadata": {},
   "outputs": [
    {
     "data": {
      "text/plain": [
       "'The day with the best sales is:'"
      ]
     },
     "metadata": {},
     "output_type": "display_data"
    },
    {
     "data": {
      "text/plain": [
       "day_of_month          8\n",
       "price           1641000\n",
       "Name: 7, dtype: int64"
      ]
     },
     "metadata": {},
     "output_type": "display_data"
    }
   ],
   "source": [
    "import pandas as pd\n",
    "\n",
    "\n",
    "# Convert the 'created_at' column to a datetime object\n",
    "df2['created_at'] = pd.to_datetime(df2['created_at'])\n",
    "\n",
    "# Group the data by day of the month and calculate the total monetary value of sales for each day\n",
    "df2['day_of_month'] = df2['created_at'].dt.day\n",
    "day_sales = df2.groupby('day_of_month').agg({'price': 'sum'}).reset_index()\n",
    "\n",
    "# Find the day with the highest sales\n",
    "best_sales_day = day_sales.loc[day_sales['price'].idxmax()]\n",
    "\n",
    "# Print the results\n",
    "display('The day with the best sales is:')\n",
    "display(best_sales_day)\n"
   ]
  },
  {
   "cell_type": "markdown",
   "id": "ffa97457",
   "metadata": {},
   "source": [
    "# Q11-Which day of the month gets them the best sales?"
   ]
  },
  {
   "cell_type": "code",
   "execution_count": 63,
   "id": "decbddbe",
   "metadata": {},
   "outputs": [
    {
     "data": {
      "text/plain": [
       "'The best sales day of the month is 8.'"
      ]
     },
     "metadata": {},
     "output_type": "display_data"
    }
   ],
   "source": [
    "import pandas as pd\n",
    "\n",
    "\n",
    "\n",
    "# Convert the 'created_at' column to a datetime object\n",
    "df2['created_at'] = pd.to_datetime(df2['created_at'])\n",
    "\n",
    "# Which day of the month gets them the best sales?\n",
    "day_sales = df2.groupby(df2['created_at'].dt.day)['price'].sum().reset_index()\n",
    "best_day = day_sales.loc[day_sales['price'].idxmax(), 'created_at']\n",
    "display(f\"The best sales day of the month is {best_day}.\")\n",
    "\n"
   ]
  },
  {
   "cell_type": "markdown",
   "id": "934b9ba1",
   "metadata": {},
   "source": [
    "# Q12- At what time of the day their website gets the maximum impressions? (Number of orders)"
   ]
  },
  {
   "cell_type": "code",
   "execution_count": 60,
   "id": "97368fec",
   "metadata": {},
   "outputs": [
    {
     "name": "stdout",
     "output_type": "stream",
     "text": [
      "The website gets the maximum impressions at 22 o'clock.\n"
     ]
    }
   ],
   "source": [
    "# At what time of the day their website gets the maximum impressions? (Number of orders)\n",
    "hour_sales = df2.groupby(df2['created_at'].dt.hour)['order_id'].count().reset_index()\n",
    "max_hour = hour_sales.loc[hour_sales['order_id'].idxmax(), 'created_at']\n",
    "print(f\"The website gets the maximum impressions at {max_hour} o'clock.\")\n",
    "\n"
   ]
  },
  {
   "cell_type": "markdown",
   "id": "e7723434",
   "metadata": {},
   "source": [
    "# Q13-  Are men placing more orders than women?"
   ]
  },
  {
   "cell_type": "code",
   "execution_count": 61,
   "id": "7d50df75",
   "metadata": {},
   "outputs": [
    {
     "name": "stdout",
     "output_type": "stream",
     "text": [
      "Men are placing more orders than women.\n"
     ]
    }
   ],
   "source": [
    "# Are men placing more orders than women?\n",
    "gender_sales = df2.groupby('gender')['order_id'].count().reset_index()\n",
    "if gender_sales.loc[0, 'order_id'] > gender_sales.loc[1, 'order_id']:\n",
    "    print(\"Men are placing more orders than women.\")\n",
    "else:\n",
    "    print(\"Women are placing more orders than men.\")\n",
    "\n"
   ]
  },
  {
   "cell_type": "markdown",
   "id": "1a1cca55",
   "metadata": {},
   "source": [
    "## Q14- Is it a good idea for the company to open an offline store at this early stage of its start-up journey?\n",
    "## We'll use a simple heuristic to determine if it's a good idea based on the average order value"
   ]
  },
  {
   "cell_type": "code",
   "execution_count": 62,
   "id": "dc902df9",
   "metadata": {},
   "outputs": [
    {
     "name": "stdout",
     "output_type": "stream",
     "text": [
      "It may be a good idea to open an offline store.\n"
     ]
    }
   ],
   "source": [
    "# Is it a good idea for the company to open an offline store at this early stage of its start-up journey?\n",
    "# We'll use a simple heuristic to determine if it's a good idea based on the average order value\n",
    "avg_order_value = df2.groupby('user_id')['price'].mean().mean()\n",
    "if avg_order_value > 100:\n",
    "    print(\"It may be a good idea to open an offline store.\")\n",
    "else:\n",
    "    print(\"It may not be a good idea to open an offline store.\")\n"
   ]
  },
  {
   "cell_type": "markdown",
   "id": "c5fc0ce7",
   "metadata": {},
   "source": [
    "# END OF THE PROJECT."
   ]
  },
  {
   "cell_type": "code",
   "execution_count": null,
   "id": "debd93b3",
   "metadata": {},
   "outputs": [],
   "source": []
  }
 ],
 "metadata": {
  "kernelspec": {
   "display_name": "Python 3 (ipykernel)",
   "language": "python",
   "name": "python3"
  },
  "language_info": {
   "codemirror_mode": {
    "name": "ipython",
    "version": 3
   },
   "file_extension": ".py",
   "mimetype": "text/x-python",
   "name": "python",
   "nbconvert_exporter": "python",
   "pygments_lexer": "ipython3",
   "version": "3.9.12"
  }
 },
 "nbformat": 4,
 "nbformat_minor": 5
}
